{
 "cells": [
  {
   "cell_type": "code",
   "execution_count": 1,
   "id": "cb2d4f97",
   "metadata": {},
   "outputs": [],
   "source": [
    "import os\n",
    "import glob\n",
    "import numpy as np\n",
    "import pandas as pd\n",
    "import matplotlib.pyplot as plt\n",
    "import seaborn as sns"
   ]
  },
  {
   "cell_type": "code",
   "execution_count": 2,
   "id": "7b2270c1",
   "metadata": {},
   "outputs": [
    {
     "name": "stdout",
     "output_type": "stream",
     "text": [
      "['D:\\\\IIITNR\\\\ACN\\\\project\\\\data-1\\\\stateless\\\\benign\\\\stateless_features-benign_heavy_1.pcap.csv', 'D:\\\\IIITNR\\\\ACN\\\\project\\\\data-1\\\\stateless\\\\benign\\\\stateless_features-benign_heavy_2.pcap.csv', 'D:\\\\IIITNR\\\\ACN\\\\project\\\\data-1\\\\stateless\\\\benign\\\\stateless_features-benign_heavy_3.pcap.csv', 'D:\\\\IIITNR\\\\ACN\\\\project\\\\data-1\\\\stateless\\\\benign\\\\stateless_features-light_benign.pcap.csv']\n"
     ]
    }
   ],
   "source": [
    "path =r'D:\\IIITNR\\ACN\\project\\data-1\\stateless\\benign'\n",
    "filenames = glob.glob(path + \"/*\")\n",
    "print(filenames)"
   ]
  },
  {
   "cell_type": "code",
   "execution_count": 3,
   "id": "661bb0f2",
   "metadata": {},
   "outputs": [
    {
     "name": "stdout",
     "output_type": "stream",
     "text": [
      "stateless_features-benign_heavy_1\n",
      "stateless_features-benign_heavy_2\n",
      "stateless_features-benign_heavy_3\n",
      "stateless_features-light_benign\n"
     ]
    }
   ],
   "source": [
    "label = 'benign'\n",
    "for path in filenames:\n",
    "    filename = (path.split('.')[0]).split('\\\\')[-1]\n",
    "    print(filename)\n",
    "    df = pd.read_csv(path)\n",
    "    df['Label'] = label\n",
    "    outdir = 'labeled\\benign_labeled'\n",
    "    if not os.path.exists(outdir):\n",
    "         os.makedirs(outdir)\n",
    "    outcsv_name = filename + '.csv'\n",
    "    df.to_csv(os.path.join(outdir, outcsv_name), index=False)\n"
   ]
  },
  {
   "cell_type": "code",
   "execution_count": 4,
   "id": "2d0064c4",
   "metadata": {},
   "outputs": [
    {
     "name": "stdout",
     "output_type": "stream",
     "text": [
      "['D:\\\\IIITNR\\\\ACN\\\\project\\\\data-1\\\\stateless\\\\light_attack\\\\stateless_features-light_audio.pcap.csv', 'D:\\\\IIITNR\\\\ACN\\\\project\\\\data-1\\\\stateless\\\\light_attack\\\\stateless_features-light_compressed.pcap.csv', 'D:\\\\IIITNR\\\\ACN\\\\project\\\\data-1\\\\stateless\\\\light_attack\\\\stateless_features-light_exe.pcap.csv', 'D:\\\\IIITNR\\\\ACN\\\\project\\\\data-1\\\\stateless\\\\light_attack\\\\stateless_features-light_image.pcap.csv', 'D:\\\\IIITNR\\\\ACN\\\\project\\\\data-1\\\\stateless\\\\light_attack\\\\stateless_features-light_text.pcap.csv', 'D:\\\\IIITNR\\\\ACN\\\\project\\\\data-1\\\\stateless\\\\light_attack\\\\stateless_features-light_video.pcap.csv']\n"
     ]
    }
   ],
   "source": [
    "path =r'D:\\IIITNR\\ACN\\project\\data-1\\stateless\\light_attack'\n",
    "filenames = glob.glob(path + \"/*\")\n",
    "print(filenames)"
   ]
  },
  {
   "cell_type": "code",
   "execution_count": 5,
   "id": "f2875425",
   "metadata": {},
   "outputs": [
    {
     "name": "stdout",
     "output_type": "stream",
     "text": [
      "stateless_features-light_audio\n",
      "stateless_features-light_compressed\n",
      "stateless_features-light_exe\n",
      "stateless_features-light_image\n",
      "stateless_features-light_text\n",
      "stateless_features-light_video\n"
     ]
    }
   ],
   "source": [
    "label = 'light_attack'\n",
    "for path in filenames:\n",
    "    filename = (path.split('.')[0]).split('\\\\')[-1]\n",
    "    print(filename)\n",
    "    df = pd.read_csv(path)\n",
    "    df['Label'] = label\n",
    "    outdir = 'labeled\\light_attack_labeled'\n",
    "    if not os.path.exists(outdir):\n",
    "         os.makedirs(outdir)\n",
    "    outcsv_name = filename + '.csv' \n",
    "    df.to_csv(os.path.join(outdir, outcsv_name), index=False)\n"
   ]
  },
  {
   "cell_type": "code",
   "execution_count": 6,
   "id": "7bd0c41d",
   "metadata": {},
   "outputs": [
    {
     "name": "stdout",
     "output_type": "stream",
     "text": [
      "['D:\\\\IIITNR\\\\ACN\\\\project\\\\data-1\\\\stateless\\\\heavy_attack\\\\stateless_features-heavy_audio.pcap.csv', 'D:\\\\IIITNR\\\\ACN\\\\project\\\\data-1\\\\stateless\\\\heavy_attack\\\\stateless_features-heavy_compressed.pcap.csv', 'D:\\\\IIITNR\\\\ACN\\\\project\\\\data-1\\\\stateless\\\\heavy_attack\\\\stateless_features-heavy_exe.pcap.csv', 'D:\\\\IIITNR\\\\ACN\\\\project\\\\data-1\\\\stateless\\\\heavy_attack\\\\stateless_features-heavy_image.pcap.csv', 'D:\\\\IIITNR\\\\ACN\\\\project\\\\data-1\\\\stateless\\\\heavy_attack\\\\stateless_features-heavy_text.pcap.csv', 'D:\\\\IIITNR\\\\ACN\\\\project\\\\data-1\\\\stateless\\\\heavy_attack\\\\stateless_features-heavy_video.pcap.csv']\n"
     ]
    }
   ],
   "source": [
    "path =r'D:\\IIITNR\\ACN\\project\\data-1\\stateless\\heavy_attack'\n",
    "filenames = glob.glob(path + \"/*\")\n",
    "print(filenames)"
   ]
  },
  {
   "cell_type": "code",
   "execution_count": 7,
   "id": "5efce3be",
   "metadata": {},
   "outputs": [
    {
     "name": "stdout",
     "output_type": "stream",
     "text": [
      "stateless_features-heavy_audio\n",
      "stateless_features-heavy_compressed\n",
      "stateless_features-heavy_exe\n",
      "stateless_features-heavy_image\n",
      "stateless_features-heavy_text\n",
      "stateless_features-heavy_video\n"
     ]
    }
   ],
   "source": [
    "label = 'heavy_attack'\n",
    "for path in filenames:\n",
    "    filename = (path.split('.')[0]).split('\\\\')[-1]\n",
    "    print(filename)\n",
    "    df = pd.read_csv(path)\n",
    "    df['Label'] = label\n",
    "    outdir = 'labeled\\heavy_attack_labeled'\n",
    "    if not os.path.exists(outdir):\n",
    "         os.makedirs(outdir)\n",
    "    outcsv_name = filename + '.csv' \n",
    "    df.to_csv(os.path.join(outdir, outcsv_name), index=False)\n"
   ]
  },
  {
   "cell_type": "markdown",
   "id": "c57307c1",
   "metadata": {},
   "source": [
    "## Merge CSVs"
   ]
  },
  {
   "cell_type": "code",
   "execution_count": 8,
   "id": "17cddeae",
   "metadata": {},
   "outputs": [
    {
     "name": "stdout",
     "output_type": "stream",
     "text": [
      "['D:\\\\IIITNR\\\\ACN\\\\project\\\\data-1\\\\stateless\\\\labeled\\\\benign_labeled', 'D:\\\\IIITNR\\\\ACN\\\\project\\\\data-1\\\\stateless\\\\labeled\\\\heavy_attack_labeled', 'D:\\\\IIITNR\\\\ACN\\\\project\\\\data-1\\\\stateless\\\\labeled\\\\light_attack_labeled']\n"
     ]
    }
   ],
   "source": [
    "path = r'D:\\IIITNR\\ACN\\project\\data-1\\stateless\\labeled'\n",
    "folders_path = glob.glob(path + \"/*\")\n",
    "print(folders_path)"
   ]
  },
  {
   "cell_type": "code",
   "execution_count": 9,
   "id": "b384bf32",
   "metadata": {},
   "outputs": [],
   "source": [
    "all_csvs = []\n",
    "for folder in folders_path:\n",
    "    # csv_name = folder.split('\\\\')[-1]\n",
    "    # print(csv_name)\n",
    "    filepaths = glob.glob(folder + '/*')\n",
    "    for path in filepaths:\n",
    "        all_csvs.append(path)\n",
    "    \n",
    "combined_df = pd.concat(pd.read_csv(path) for path in all_csvs)\n",
    "combined_df = combined_df.sample(frac=1).reset_index(drop=True)\n",
    "combined_df.to_csv('CIC-Bell-DNS-EXF-2021_stateless.csv', index=False)"
   ]
  },
  {
   "cell_type": "code",
   "execution_count": 10,
   "id": "5456d4e8",
   "metadata": {},
   "outputs": [
    {
     "data": {
      "text/html": [
       "<div>\n",
       "<style scoped>\n",
       "    .dataframe tbody tr th:only-of-type {\n",
       "        vertical-align: middle;\n",
       "    }\n",
       "\n",
       "    .dataframe tbody tr th {\n",
       "        vertical-align: top;\n",
       "    }\n",
       "\n",
       "    .dataframe thead th {\n",
       "        text-align: right;\n",
       "    }\n",
       "</style>\n",
       "<table border=\"1\" class=\"dataframe\">\n",
       "  <thead>\n",
       "    <tr style=\"text-align: right;\">\n",
       "      <th></th>\n",
       "      <th>timestamp</th>\n",
       "      <th>FQDN_count</th>\n",
       "      <th>subdomain_length</th>\n",
       "      <th>upper</th>\n",
       "      <th>lower</th>\n",
       "      <th>numeric</th>\n",
       "      <th>entropy</th>\n",
       "      <th>special</th>\n",
       "      <th>labels</th>\n",
       "      <th>labels_max</th>\n",
       "      <th>labels_average</th>\n",
       "      <th>longest_word</th>\n",
       "      <th>sld</th>\n",
       "      <th>len</th>\n",
       "      <th>subdomain</th>\n",
       "      <th>Label</th>\n",
       "    </tr>\n",
       "  </thead>\n",
       "  <tbody>\n",
       "    <tr>\n",
       "      <th>0</th>\n",
       "      <td>2020-11-22 14:09:57.523605</td>\n",
       "      <td>24</td>\n",
       "      <td>7</td>\n",
       "      <td>0</td>\n",
       "      <td>10</td>\n",
       "      <td>8</td>\n",
       "      <td>2.054029</td>\n",
       "      <td>6</td>\n",
       "      <td>6</td>\n",
       "      <td>7</td>\n",
       "      <td>3.166667</td>\n",
       "      <td>4</td>\n",
       "      <td>224</td>\n",
       "      <td>11</td>\n",
       "      <td>1</td>\n",
       "      <td>benign</td>\n",
       "    </tr>\n",
       "    <tr>\n",
       "      <th>1</th>\n",
       "      <td>2020-11-25 01:38:53.048899</td>\n",
       "      <td>24</td>\n",
       "      <td>7</td>\n",
       "      <td>0</td>\n",
       "      <td>10</td>\n",
       "      <td>8</td>\n",
       "      <td>2.054029</td>\n",
       "      <td>6</td>\n",
       "      <td>6</td>\n",
       "      <td>7</td>\n",
       "      <td>3.166667</td>\n",
       "      <td>4</td>\n",
       "      <td>224</td>\n",
       "      <td>11</td>\n",
       "      <td>1</td>\n",
       "      <td>heavy_attack</td>\n",
       "    </tr>\n",
       "    <tr>\n",
       "      <th>2</th>\n",
       "      <td>2020-11-24 16:27:06.336674</td>\n",
       "      <td>25</td>\n",
       "      <td>8</td>\n",
       "      <td>0</td>\n",
       "      <td>10</td>\n",
       "      <td>9</td>\n",
       "      <td>2.786216</td>\n",
       "      <td>6</td>\n",
       "      <td>6</td>\n",
       "      <td>7</td>\n",
       "      <td>3.333333</td>\n",
       "      <td>2</td>\n",
       "      <td>192</td>\n",
       "      <td>12</td>\n",
       "      <td>1</td>\n",
       "      <td>benign</td>\n",
       "    </tr>\n",
       "    <tr>\n",
       "      <th>3</th>\n",
       "      <td>2020-11-21 18:04:09.979832</td>\n",
       "      <td>13</td>\n",
       "      <td>3</td>\n",
       "      <td>0</td>\n",
       "      <td>9</td>\n",
       "      <td>2</td>\n",
       "      <td>2.514247</td>\n",
       "      <td>2</td>\n",
       "      <td>3</td>\n",
       "      <td>6</td>\n",
       "      <td>3.666667</td>\n",
       "      <td>lite</td>\n",
       "      <td>lite14</td>\n",
       "      <td>10</td>\n",
       "      <td>1</td>\n",
       "      <td>benign</td>\n",
       "    </tr>\n",
       "    <tr>\n",
       "      <th>4</th>\n",
       "      <td>2020-11-24 19:13:18.189963</td>\n",
       "      <td>26</td>\n",
       "      <td>9</td>\n",
       "      <td>0</td>\n",
       "      <td>10</td>\n",
       "      <td>10</td>\n",
       "      <td>2.742338</td>\n",
       "      <td>6</td>\n",
       "      <td>6</td>\n",
       "      <td>7</td>\n",
       "      <td>3.500000</td>\n",
       "      <td>2</td>\n",
       "      <td>192</td>\n",
       "      <td>13</td>\n",
       "      <td>1</td>\n",
       "      <td>heavy_attack</td>\n",
       "    </tr>\n",
       "  </tbody>\n",
       "</table>\n",
       "</div>"
      ],
      "text/plain": [
       "                    timestamp  FQDN_count  subdomain_length  upper  lower  \\\n",
       "0  2020-11-22 14:09:57.523605          24                 7      0     10   \n",
       "1  2020-11-25 01:38:53.048899          24                 7      0     10   \n",
       "2  2020-11-24 16:27:06.336674          25                 8      0     10   \n",
       "3  2020-11-21 18:04:09.979832          13                 3      0      9   \n",
       "4  2020-11-24 19:13:18.189963          26                 9      0     10   \n",
       "\n",
       "   numeric   entropy  special  labels  labels_max  labels_average  \\\n",
       "0        8  2.054029        6       6           7        3.166667   \n",
       "1        8  2.054029        6       6           7        3.166667   \n",
       "2        9  2.786216        6       6           7        3.333333   \n",
       "3        2  2.514247        2       3           6        3.666667   \n",
       "4       10  2.742338        6       6           7        3.500000   \n",
       "\n",
       "  longest_word     sld  len  subdomain         Label  \n",
       "0            4     224   11          1        benign  \n",
       "1            4     224   11          1  heavy_attack  \n",
       "2            2     192   12          1        benign  \n",
       "3         lite  lite14   10          1        benign  \n",
       "4            2     192   13          1  heavy_attack  "
      ]
     },
     "execution_count": 10,
     "metadata": {},
     "output_type": "execute_result"
    }
   ],
   "source": [
    "# make a copy of the dataframe\n",
    "data = combined_df.copy()\n",
    "data.head()"
   ]
  },
  {
   "cell_type": "markdown",
   "id": "02cf8f65",
   "metadata": {},
   "source": [
    "### DATA ANALYSIS"
   ]
  },
  {
   "cell_type": "code",
   "execution_count": 11,
   "id": "dbbd84db",
   "metadata": {},
   "outputs": [
    {
     "data": {
      "text/html": [
       "<div>\n",
       "<style scoped>\n",
       "    .dataframe tbody tr th:only-of-type {\n",
       "        vertical-align: middle;\n",
       "    }\n",
       "\n",
       "    .dataframe tbody tr th {\n",
       "        vertical-align: top;\n",
       "    }\n",
       "\n",
       "    .dataframe thead th {\n",
       "        text-align: right;\n",
       "    }\n",
       "</style>\n",
       "<table border=\"1\" class=\"dataframe\">\n",
       "  <thead>\n",
       "    <tr style=\"text-align: right;\">\n",
       "      <th></th>\n",
       "      <th>timestamp</th>\n",
       "      <th>FQDN_count</th>\n",
       "      <th>subdomain_length</th>\n",
       "      <th>upper</th>\n",
       "      <th>lower</th>\n",
       "      <th>numeric</th>\n",
       "      <th>entropy</th>\n",
       "      <th>special</th>\n",
       "      <th>labels</th>\n",
       "      <th>labels_max</th>\n",
       "      <th>labels_average</th>\n",
       "      <th>longest_word</th>\n",
       "      <th>sld</th>\n",
       "      <th>len</th>\n",
       "      <th>subdomain</th>\n",
       "      <th>Label</th>\n",
       "    </tr>\n",
       "  </thead>\n",
       "  <tbody>\n",
       "    <tr>\n",
       "      <th>536133</th>\n",
       "      <td>2020-11-24 20:39:35.846862</td>\n",
       "      <td>27</td>\n",
       "      <td>10</td>\n",
       "      <td>0</td>\n",
       "      <td>10</td>\n",
       "      <td>11</td>\n",
       "      <td>2.570417</td>\n",
       "      <td>6</td>\n",
       "      <td>6</td>\n",
       "      <td>7</td>\n",
       "      <td>3.666667</td>\n",
       "      <td>2</td>\n",
       "      <td>192</td>\n",
       "      <td>14</td>\n",
       "      <td>1</td>\n",
       "      <td>heavy_attack</td>\n",
       "    </tr>\n",
       "    <tr>\n",
       "      <th>536134</th>\n",
       "      <td>2020-11-22 12:23:28.524878</td>\n",
       "      <td>27</td>\n",
       "      <td>10</td>\n",
       "      <td>0</td>\n",
       "      <td>10</td>\n",
       "      <td>11</td>\n",
       "      <td>2.570417</td>\n",
       "      <td>6</td>\n",
       "      <td>6</td>\n",
       "      <td>7</td>\n",
       "      <td>3.666667</td>\n",
       "      <td>2</td>\n",
       "      <td>192</td>\n",
       "      <td>14</td>\n",
       "      <td>1</td>\n",
       "      <td>benign</td>\n",
       "    </tr>\n",
       "    <tr>\n",
       "      <th>536135</th>\n",
       "      <td>2020-11-21 16:03:22.888025</td>\n",
       "      <td>14</td>\n",
       "      <td>0</td>\n",
       "      <td>0</td>\n",
       "      <td>12</td>\n",
       "      <td>0</td>\n",
       "      <td>2.781301</td>\n",
       "      <td>2</td>\n",
       "      <td>2</td>\n",
       "      <td>10</td>\n",
       "      <td>6.500000</td>\n",
       "      <td>japan</td>\n",
       "      <td>japan-goto</td>\n",
       "      <td>11</td>\n",
       "      <td>0</td>\n",
       "      <td>benign</td>\n",
       "    </tr>\n",
       "    <tr>\n",
       "      <th>536136</th>\n",
       "      <td>2020-11-23 01:10:38.901958</td>\n",
       "      <td>24</td>\n",
       "      <td>7</td>\n",
       "      <td>0</td>\n",
       "      <td>10</td>\n",
       "      <td>8</td>\n",
       "      <td>2.054029</td>\n",
       "      <td>6</td>\n",
       "      <td>6</td>\n",
       "      <td>7</td>\n",
       "      <td>3.166667</td>\n",
       "      <td>4</td>\n",
       "      <td>224</td>\n",
       "      <td>11</td>\n",
       "      <td>1</td>\n",
       "      <td>heavy_attack</td>\n",
       "    </tr>\n",
       "    <tr>\n",
       "      <th>536137</th>\n",
       "      <td>2020-11-21 18:01:58.817202</td>\n",
       "      <td>25</td>\n",
       "      <td>8</td>\n",
       "      <td>0</td>\n",
       "      <td>10</td>\n",
       "      <td>9</td>\n",
       "      <td>2.556642</td>\n",
       "      <td>6</td>\n",
       "      <td>6</td>\n",
       "      <td>7</td>\n",
       "      <td>3.333333</td>\n",
       "      <td>2</td>\n",
       "      <td>192</td>\n",
       "      <td>12</td>\n",
       "      <td>1</td>\n",
       "      <td>benign</td>\n",
       "    </tr>\n",
       "  </tbody>\n",
       "</table>\n",
       "</div>"
      ],
      "text/plain": [
       "                         timestamp  FQDN_count  subdomain_length  upper  \\\n",
       "536133  2020-11-24 20:39:35.846862          27                10      0   \n",
       "536134  2020-11-22 12:23:28.524878          27                10      0   \n",
       "536135  2020-11-21 16:03:22.888025          14                 0      0   \n",
       "536136  2020-11-23 01:10:38.901958          24                 7      0   \n",
       "536137  2020-11-21 18:01:58.817202          25                 8      0   \n",
       "\n",
       "        lower  numeric   entropy  special  labels  labels_max  labels_average  \\\n",
       "536133     10       11  2.570417        6       6           7        3.666667   \n",
       "536134     10       11  2.570417        6       6           7        3.666667   \n",
       "536135     12        0  2.781301        2       2          10        6.500000   \n",
       "536136     10        8  2.054029        6       6           7        3.166667   \n",
       "536137     10        9  2.556642        6       6           7        3.333333   \n",
       "\n",
       "       longest_word         sld  len  subdomain         Label  \n",
       "536133            2         192   14          1  heavy_attack  \n",
       "536134            2         192   14          1        benign  \n",
       "536135        japan  japan-goto   11          0        benign  \n",
       "536136            4         224   11          1  heavy_attack  \n",
       "536137            2         192   12          1        benign  "
      ]
     },
     "execution_count": 11,
     "metadata": {},
     "output_type": "execute_result"
    }
   ],
   "source": [
    "data.tail()"
   ]
  },
  {
   "cell_type": "markdown",
   "id": "23d8015c",
   "metadata": {},
   "source": [
    "### Since timestamp doesn't contribute as a feature so we will remove it from data for further analysis and training. Also, longest_word,  and sld these two features have a large number of categorical values their meanings are not clear, therefore, we will remove these two features as well."
   ]
  },
  {
   "cell_type": "code",
   "execution_count": 12,
   "id": "78441f01",
   "metadata": {},
   "outputs": [
    {
     "data": {
      "text/html": [
       "<div>\n",
       "<style scoped>\n",
       "    .dataframe tbody tr th:only-of-type {\n",
       "        vertical-align: middle;\n",
       "    }\n",
       "\n",
       "    .dataframe tbody tr th {\n",
       "        vertical-align: top;\n",
       "    }\n",
       "\n",
       "    .dataframe thead th {\n",
       "        text-align: right;\n",
       "    }\n",
       "</style>\n",
       "<table border=\"1\" class=\"dataframe\">\n",
       "  <thead>\n",
       "    <tr style=\"text-align: right;\">\n",
       "      <th></th>\n",
       "      <th>FQDN_count</th>\n",
       "      <th>subdomain_length</th>\n",
       "      <th>upper</th>\n",
       "      <th>lower</th>\n",
       "      <th>numeric</th>\n",
       "      <th>entropy</th>\n",
       "      <th>special</th>\n",
       "      <th>labels</th>\n",
       "      <th>labels_max</th>\n",
       "      <th>labels_average</th>\n",
       "      <th>len</th>\n",
       "      <th>subdomain</th>\n",
       "      <th>Label</th>\n",
       "    </tr>\n",
       "  </thead>\n",
       "  <tbody>\n",
       "    <tr>\n",
       "      <th>0</th>\n",
       "      <td>24</td>\n",
       "      <td>7</td>\n",
       "      <td>0</td>\n",
       "      <td>10</td>\n",
       "      <td>8</td>\n",
       "      <td>2.054029</td>\n",
       "      <td>6</td>\n",
       "      <td>6</td>\n",
       "      <td>7</td>\n",
       "      <td>3.166667</td>\n",
       "      <td>11</td>\n",
       "      <td>1</td>\n",
       "      <td>benign</td>\n",
       "    </tr>\n",
       "    <tr>\n",
       "      <th>1</th>\n",
       "      <td>24</td>\n",
       "      <td>7</td>\n",
       "      <td>0</td>\n",
       "      <td>10</td>\n",
       "      <td>8</td>\n",
       "      <td>2.054029</td>\n",
       "      <td>6</td>\n",
       "      <td>6</td>\n",
       "      <td>7</td>\n",
       "      <td>3.166667</td>\n",
       "      <td>11</td>\n",
       "      <td>1</td>\n",
       "      <td>heavy_attack</td>\n",
       "    </tr>\n",
       "    <tr>\n",
       "      <th>2</th>\n",
       "      <td>25</td>\n",
       "      <td>8</td>\n",
       "      <td>0</td>\n",
       "      <td>10</td>\n",
       "      <td>9</td>\n",
       "      <td>2.786216</td>\n",
       "      <td>6</td>\n",
       "      <td>6</td>\n",
       "      <td>7</td>\n",
       "      <td>3.333333</td>\n",
       "      <td>12</td>\n",
       "      <td>1</td>\n",
       "      <td>benign</td>\n",
       "    </tr>\n",
       "    <tr>\n",
       "      <th>3</th>\n",
       "      <td>13</td>\n",
       "      <td>3</td>\n",
       "      <td>0</td>\n",
       "      <td>9</td>\n",
       "      <td>2</td>\n",
       "      <td>2.514247</td>\n",
       "      <td>2</td>\n",
       "      <td>3</td>\n",
       "      <td>6</td>\n",
       "      <td>3.666667</td>\n",
       "      <td>10</td>\n",
       "      <td>1</td>\n",
       "      <td>benign</td>\n",
       "    </tr>\n",
       "    <tr>\n",
       "      <th>4</th>\n",
       "      <td>26</td>\n",
       "      <td>9</td>\n",
       "      <td>0</td>\n",
       "      <td>10</td>\n",
       "      <td>10</td>\n",
       "      <td>2.742338</td>\n",
       "      <td>6</td>\n",
       "      <td>6</td>\n",
       "      <td>7</td>\n",
       "      <td>3.500000</td>\n",
       "      <td>13</td>\n",
       "      <td>1</td>\n",
       "      <td>heavy_attack</td>\n",
       "    </tr>\n",
       "  </tbody>\n",
       "</table>\n",
       "</div>"
      ],
      "text/plain": [
       "   FQDN_count  subdomain_length  upper  lower  numeric   entropy  special  \\\n",
       "0          24                 7      0     10        8  2.054029        6   \n",
       "1          24                 7      0     10        8  2.054029        6   \n",
       "2          25                 8      0     10        9  2.786216        6   \n",
       "3          13                 3      0      9        2  2.514247        2   \n",
       "4          26                 9      0     10       10  2.742338        6   \n",
       "\n",
       "   labels  labels_max  labels_average  len  subdomain         Label  \n",
       "0       6           7        3.166667   11          1        benign  \n",
       "1       6           7        3.166667   11          1  heavy_attack  \n",
       "2       6           7        3.333333   12          1        benign  \n",
       "3       3           6        3.666667   10          1        benign  \n",
       "4       6           7        3.500000   13          1  heavy_attack  "
      ]
     },
     "execution_count": 12,
     "metadata": {},
     "output_type": "execute_result"
    }
   ],
   "source": [
    "data_new = data.drop(['timestamp', 'longest_word', 'sld'], axis=1)\n",
    "data_new.head()"
   ]
  },
  {
   "cell_type": "code",
   "execution_count": 13,
   "id": "645c9938",
   "metadata": {},
   "outputs": [
    {
     "data": {
      "text/html": [
       "<div>\n",
       "<style scoped>\n",
       "    .dataframe tbody tr th:only-of-type {\n",
       "        vertical-align: middle;\n",
       "    }\n",
       "\n",
       "    .dataframe tbody tr th {\n",
       "        vertical-align: top;\n",
       "    }\n",
       "\n",
       "    .dataframe thead th {\n",
       "        text-align: right;\n",
       "    }\n",
       "</style>\n",
       "<table border=\"1\" class=\"dataframe\">\n",
       "  <thead>\n",
       "    <tr style=\"text-align: right;\">\n",
       "      <th></th>\n",
       "      <th>FQDN_count</th>\n",
       "      <th>subdomain_length</th>\n",
       "      <th>upper</th>\n",
       "      <th>lower</th>\n",
       "      <th>numeric</th>\n",
       "      <th>entropy</th>\n",
       "      <th>special</th>\n",
       "      <th>labels</th>\n",
       "      <th>labels_max</th>\n",
       "      <th>labels_average</th>\n",
       "      <th>len</th>\n",
       "      <th>subdomain</th>\n",
       "    </tr>\n",
       "  </thead>\n",
       "  <tbody>\n",
       "    <tr>\n",
       "      <th>count</th>\n",
       "      <td>536138.000000</td>\n",
       "      <td>536138.000000</td>\n",
       "      <td>536138.000000</td>\n",
       "      <td>536138.000000</td>\n",
       "      <td>536138.000000</td>\n",
       "      <td>536138.000000</td>\n",
       "      <td>536138.000000</td>\n",
       "      <td>536138.000000</td>\n",
       "      <td>536138.000000</td>\n",
       "      <td>536138.000000</td>\n",
       "      <td>536138.000000</td>\n",
       "      <td>536138.000000</td>\n",
       "    </tr>\n",
       "    <tr>\n",
       "      <th>mean</th>\n",
       "      <td>22.345262</td>\n",
       "      <td>6.100633</td>\n",
       "      <td>0.849604</td>\n",
       "      <td>10.412959</td>\n",
       "      <td>6.539344</td>\n",
       "      <td>2.485026</td>\n",
       "      <td>4.543355</td>\n",
       "      <td>4.806201</td>\n",
       "      <td>8.240375</td>\n",
       "      <td>4.794970</td>\n",
       "      <td>12.587228</td>\n",
       "      <td>0.757902</td>\n",
       "    </tr>\n",
       "    <tr>\n",
       "      <th>std</th>\n",
       "      <td>5.968281</td>\n",
       "      <td>3.883699</td>\n",
       "      <td>4.951571</td>\n",
       "      <td>3.226364</td>\n",
       "      <td>4.482443</td>\n",
       "      <td>0.407780</td>\n",
       "      <td>2.193396</td>\n",
       "      <td>1.796751</td>\n",
       "      <td>4.408849</td>\n",
       "      <td>4.579084</td>\n",
       "      <td>4.173231</td>\n",
       "      <td>0.428354</td>\n",
       "    </tr>\n",
       "    <tr>\n",
       "      <th>min</th>\n",
       "      <td>2.000000</td>\n",
       "      <td>0.000000</td>\n",
       "      <td>0.000000</td>\n",
       "      <td>0.000000</td>\n",
       "      <td>0.000000</td>\n",
       "      <td>0.219195</td>\n",
       "      <td>0.000000</td>\n",
       "      <td>1.000000</td>\n",
       "      <td>2.000000</td>\n",
       "      <td>1.500000</td>\n",
       "      <td>2.000000</td>\n",
       "      <td>0.000000</td>\n",
       "    </tr>\n",
       "    <tr>\n",
       "      <th>25%</th>\n",
       "      <td>19.000000</td>\n",
       "      <td>3.000000</td>\n",
       "      <td>0.000000</td>\n",
       "      <td>10.000000</td>\n",
       "      <td>0.000000</td>\n",
       "      <td>2.054029</td>\n",
       "      <td>2.000000</td>\n",
       "      <td>3.000000</td>\n",
       "      <td>7.000000</td>\n",
       "      <td>3.166667</td>\n",
       "      <td>11.000000</td>\n",
       "      <td>1.000000</td>\n",
       "    </tr>\n",
       "    <tr>\n",
       "      <th>50%</th>\n",
       "      <td>24.000000</td>\n",
       "      <td>7.000000</td>\n",
       "      <td>0.000000</td>\n",
       "      <td>10.000000</td>\n",
       "      <td>8.000000</td>\n",
       "      <td>2.570417</td>\n",
       "      <td>6.000000</td>\n",
       "      <td>6.000000</td>\n",
       "      <td>7.000000</td>\n",
       "      <td>3.666667</td>\n",
       "      <td>12.000000</td>\n",
       "      <td>1.000000</td>\n",
       "    </tr>\n",
       "    <tr>\n",
       "      <th>75%</th>\n",
       "      <td>27.000000</td>\n",
       "      <td>10.000000</td>\n",
       "      <td>0.000000</td>\n",
       "      <td>10.000000</td>\n",
       "      <td>11.000000</td>\n",
       "      <td>2.767195</td>\n",
       "      <td>6.000000</td>\n",
       "      <td>6.000000</td>\n",
       "      <td>7.000000</td>\n",
       "      <td>4.000000</td>\n",
       "      <td>14.000000</td>\n",
       "      <td>1.000000</td>\n",
       "    </tr>\n",
       "    <tr>\n",
       "      <th>max</th>\n",
       "      <td>36.000000</td>\n",
       "      <td>29.000000</td>\n",
       "      <td>32.000000</td>\n",
       "      <td>34.000000</td>\n",
       "      <td>12.000000</td>\n",
       "      <td>4.368167</td>\n",
       "      <td>8.000000</td>\n",
       "      <td>7.000000</td>\n",
       "      <td>32.000000</td>\n",
       "      <td>32.000000</td>\n",
       "      <td>35.000000</td>\n",
       "      <td>1.000000</td>\n",
       "    </tr>\n",
       "  </tbody>\n",
       "</table>\n",
       "</div>"
      ],
      "text/plain": [
       "          FQDN_count  subdomain_length          upper          lower  \\\n",
       "count  536138.000000     536138.000000  536138.000000  536138.000000   \n",
       "mean       22.345262          6.100633       0.849604      10.412959   \n",
       "std         5.968281          3.883699       4.951571       3.226364   \n",
       "min         2.000000          0.000000       0.000000       0.000000   \n",
       "25%        19.000000          3.000000       0.000000      10.000000   \n",
       "50%        24.000000          7.000000       0.000000      10.000000   \n",
       "75%        27.000000         10.000000       0.000000      10.000000   \n",
       "max        36.000000         29.000000      32.000000      34.000000   \n",
       "\n",
       "             numeric        entropy        special         labels  \\\n",
       "count  536138.000000  536138.000000  536138.000000  536138.000000   \n",
       "mean        6.539344       2.485026       4.543355       4.806201   \n",
       "std         4.482443       0.407780       2.193396       1.796751   \n",
       "min         0.000000       0.219195       0.000000       1.000000   \n",
       "25%         0.000000       2.054029       2.000000       3.000000   \n",
       "50%         8.000000       2.570417       6.000000       6.000000   \n",
       "75%        11.000000       2.767195       6.000000       6.000000   \n",
       "max        12.000000       4.368167       8.000000       7.000000   \n",
       "\n",
       "          labels_max  labels_average            len      subdomain  \n",
       "count  536138.000000   536138.000000  536138.000000  536138.000000  \n",
       "mean        8.240375        4.794970      12.587228       0.757902  \n",
       "std         4.408849        4.579084       4.173231       0.428354  \n",
       "min         2.000000        1.500000       2.000000       0.000000  \n",
       "25%         7.000000        3.166667      11.000000       1.000000  \n",
       "50%         7.000000        3.666667      12.000000       1.000000  \n",
       "75%         7.000000        4.000000      14.000000       1.000000  \n",
       "max        32.000000       32.000000      35.000000       1.000000  "
      ]
     },
     "execution_count": 13,
     "metadata": {},
     "output_type": "execute_result"
    }
   ],
   "source": [
    "data_new.describe()"
   ]
  },
  {
   "cell_type": "code",
   "execution_count": 14,
   "id": "505edcef",
   "metadata": {},
   "outputs": [
    {
     "name": "stdout",
     "output_type": "stream",
     "text": [
      "<class 'pandas.core.frame.DataFrame'>\n",
      "RangeIndex: 536138 entries, 0 to 536137\n",
      "Data columns (total 13 columns):\n",
      " #   Column            Non-Null Count   Dtype  \n",
      "---  ------            --------------   -----  \n",
      " 0   FQDN_count        536138 non-null  int64  \n",
      " 1   subdomain_length  536138 non-null  int64  \n",
      " 2   upper             536138 non-null  int64  \n",
      " 3   lower             536138 non-null  int64  \n",
      " 4   numeric           536138 non-null  int64  \n",
      " 5   entropy           536138 non-null  float64\n",
      " 6   special           536138 non-null  int64  \n",
      " 7   labels            536138 non-null  int64  \n",
      " 8   labels_max        536138 non-null  int64  \n",
      " 9   labels_average    536138 non-null  float64\n",
      " 10  len               536138 non-null  int64  \n",
      " 11  subdomain         536138 non-null  int64  \n",
      " 12  Label             536138 non-null  object \n",
      "dtypes: float64(2), int64(10), object(1)\n",
      "memory usage: 53.2+ MB\n"
     ]
    }
   ],
   "source": [
    "data_new.info()"
   ]
  },
  {
   "cell_type": "code",
   "execution_count": 15,
   "id": "55dfa5ca",
   "metadata": {},
   "outputs": [
    {
     "name": "stdout",
     "output_type": "stream",
     "text": [
      "FQDN_count          0\n",
      "subdomain_length    0\n",
      "upper               0\n",
      "lower               0\n",
      "numeric             0\n",
      "entropy             0\n",
      "special             0\n",
      "labels              0\n",
      "labels_max          0\n",
      "labels_average      0\n",
      "len                 0\n",
      "subdomain           0\n",
      "Label               0\n",
      "dtype: int64\n"
     ]
    }
   ],
   "source": [
    "# Check for Missing Values\n",
    "print(data_new.isnull().sum())"
   ]
  },
  {
   "cell_type": "code",
   "execution_count": 16,
   "id": "fe0f4f8b",
   "metadata": {},
   "outputs": [
    {
     "data": {
      "text/plain": [
       "heavy_attack    251670\n",
       "benign          241785\n",
       "light_attack     42683\n",
       "Name: Label, dtype: int64"
      ]
     },
     "execution_count": 16,
     "metadata": {},
     "output_type": "execute_result"
    }
   ],
   "source": [
    "# check if data is imbalanced \n",
    "data_new.Label.value_counts()"
   ]
  },
  {
   "cell_type": "code",
   "execution_count": 17,
   "id": "49d47c9b",
   "metadata": {},
   "outputs": [
    {
     "name": "stdout",
     "output_type": "stream",
     "text": [
      "0.4509753085959212 0.4694127258280517 0.07961196557602707\n"
     ]
    }
   ],
   "source": [
    "# calculate the fraction of the data corresponding to each class\n",
    "benign_frc = 241785/len(data_new)\n",
    "heavy_attack_frc = 251670/len(data_new)\n",
    "light_attack_frc =  42683/len(data_new)\n",
    "print(benign_frc, heavy_attack_frc, light_attack_frc)"
   ]
  },
  {
   "cell_type": "code",
   "execution_count": 18,
   "id": "322f008d",
   "metadata": {},
   "outputs": [
    {
     "data": {
      "text/plain": [
       "Text(0, 0.5, 'Frequency')"
      ]
     },
     "execution_count": 18,
     "metadata": {},
     "output_type": "execute_result"
    },
    {
     "data": {
      "image/png": "[encoded data removed]",
      "text/plain": [
       "<Figure size 432x288 with 1 Axes>"
      ]
     },
     "metadata": {
      "needs_background": "light"
     },
     "output_type": "display_data"
    }
   ],
   "source": [
    "# Let's plot class against frequency\n",
    "labels = ['benign', 'heavy_attack', 'light_attack']\n",
    "classes = data_new.Label.value_counts()\n",
    "classes.plot(kind = 'bar',rot = 0)\n",
    "plt.title(\"Class Distribution\")\n",
    "plt.xticks(range(3), labels)\n",
    "plt.xlabel(\"Class\")\n",
    "plt.ylabel(\"Frequency\")"
   ]
  },
  {
   "cell_type": "markdown",
   "id": "9148525f",
   "metadata": {},
   "source": [
    "### DATA CLEANING"
   ]
  },
  {
   "cell_type": "code",
   "execution_count": 19,
   "id": "0f512450",
   "metadata": {},
   "outputs": [
    {
     "data": {
      "text/plain": [
       "529668"
      ]
     },
     "execution_count": 19,
     "metadata": {},
     "output_type": "execute_result"
    }
   ],
   "source": [
    "# Check duplicate values\n",
    "data_new.duplicated().sum()"
   ]
  },
  {
   "cell_type": "code",
   "execution_count": 20,
   "id": "c4bfc00e",
   "metadata": {},
   "outputs": [
    {
     "data": {
      "text/plain": [
       "(6470, 13)"
      ]
     },
     "execution_count": 20,
     "metadata": {},
     "output_type": "execute_result"
    }
   ],
   "source": [
    "# remove duplicate rows\n",
    "data_dupl_drop = data_new.drop_duplicates()\n",
    "data_dupl_drop.shape"
   ]
  },
  {
   "cell_type": "code",
   "execution_count": 21,
   "id": "9f5eaafd",
   "metadata": {},
   "outputs": [
    {
     "data": {
      "text/plain": [
       "benign          6331\n",
       "heavy_attack      90\n",
       "light_attack      49\n",
       "Name: Label, dtype: int64"
      ]
     },
     "execution_count": 21,
     "metadata": {},
     "output_type": "execute_result"
    }
   ],
   "source": [
    "# check if data is imbalanced \n",
    "data_dupl_drop.Label.value_counts()"
   ]
  },
  {
   "cell_type": "code",
   "execution_count": 22,
   "id": "c7b3a436",
   "metadata": {},
   "outputs": [
    {
     "name": "stdout",
     "output_type": "stream",
     "text": [
      "0.978516228748068 0.013910355486862442 0.007573415765069552\n"
     ]
    }
   ],
   "source": [
    "# calculate the fraction of the data corresponding to each class\n",
    "benign_frc_final = 6331/len(data_dupl_drop)\n",
    "heavy_attack_frc_final = 90/len(data_dupl_drop)\n",
    "light_attack_frc_final =  49/len(data_dupl_drop)\n",
    "print(benign_frc_final, heavy_attack_frc_final, light_attack_frc_final)"
   ]
  },
  {
   "cell_type": "code",
   "execution_count": 32,
   "id": "f502f6b3",
   "metadata": {},
   "outputs": [
    {
     "data": {
      "image/png": "[encoded data removed]",
      "text/plain": [
       "<Figure size 432x288 with 1 Axes>"
      ]
     },
     "metadata": {
      "needs_background": "light"
     },
     "output_type": "display_data"
    }
   ],
   "source": [
    "labels = ['benign', 'heavy_attack', 'light_attack']\n",
    "classes = data_dupl_drop.Label.value_counts()\n",
    "\n",
    "total = classes.sum()\n",
    "# calculate percentage\n",
    "percentage = []\n",
    "for i in range(len(classes)):\n",
    "    pct = (classes[i] / total) * 100\n",
    "    percentage.append(round(pct,2))\n",
    "graph = plt.bar(classes.index, classes.values)\n",
    "plt.title(\"Class Distribution\")\n",
    "plt.xticks(range(3), labels)\n",
    "plt.xlabel(\"Class\")\n",
    "plt.ylabel(\"Frequency\") \n",
    "\n",
    "i = 0\n",
    "for p in graph:\n",
    "    width = p.get_width()\n",
    "    height = p.get_height()\n",
    "    x, y1 = p.get_xy()\n",
    "    plt.text(x+width/2,\n",
    "             y1+height*1.01,\n",
    "             str(percentage[i])+'%',\n",
    "             ha='center',\n",
    "             weight='bold')\n",
    "    i+=1\n",
    "plt.savefig(\"Class_distribution_imbalanced.png\")"
   ]
  },
  {
   "cell_type": "code",
   "execution_count": 33,
   "id": "7760bc4c",
   "metadata": {},
   "outputs": [
    {
     "data": {
      "text/plain": [
       "array([0])"
      ]
     },
     "execution_count": 33,
     "metadata": {},
     "output_type": "execute_result"
    }
   ],
   "source": [
    "# Import label encoder\n",
    "from sklearn import preprocessing\n",
    "\n",
    "# label_encoder object knows how to understand word labels.\n",
    "label_encoder = preprocessing.LabelEncoder()\n",
    "\n",
    "# Encode labels in column 'species'.\n",
    "df['Label']= label_encoder.fit_transform(df['Label'])\n",
    "\n",
    "df['Label'].unique()\n"
   ]
  },
  {
   "cell_type": "code",
   "execution_count": 34,
   "id": "d4a78f01",
   "metadata": {},
   "outputs": [
    {
     "data": {
      "text/html": [
       "<div>\n",
       "<style scoped>\n",
       "    .dataframe tbody tr th:only-of-type {\n",
       "        vertical-align: middle;\n",
       "    }\n",
       "\n",
       "    .dataframe tbody tr th {\n",
       "        vertical-align: top;\n",
       "    }\n",
       "\n",
       "    .dataframe thead th {\n",
       "        text-align: right;\n",
       "    }\n",
       "</style>\n",
       "<table border=\"1\" class=\"dataframe\">\n",
       "  <thead>\n",
       "    <tr style=\"text-align: right;\">\n",
       "      <th></th>\n",
       "      <th>FQDN_count</th>\n",
       "      <th>subdomain_length</th>\n",
       "      <th>upper</th>\n",
       "      <th>lower</th>\n",
       "      <th>numeric</th>\n",
       "      <th>entropy</th>\n",
       "      <th>special</th>\n",
       "      <th>labels</th>\n",
       "      <th>labels_max</th>\n",
       "      <th>labels_average</th>\n",
       "      <th>len</th>\n",
       "      <th>subdomain</th>\n",
       "      <th>Label</th>\n",
       "    </tr>\n",
       "  </thead>\n",
       "  <tbody>\n",
       "    <tr>\n",
       "      <th>0</th>\n",
       "      <td>0.647059</td>\n",
       "      <td>0.241379</td>\n",
       "      <td>0.0</td>\n",
       "      <td>0.294118</td>\n",
       "      <td>0.666667</td>\n",
       "      <td>0.442238</td>\n",
       "      <td>0.75</td>\n",
       "      <td>0.833333</td>\n",
       "      <td>0.166667</td>\n",
       "      <td>0.054645</td>\n",
       "      <td>0.272727</td>\n",
       "      <td>1.0</td>\n",
       "      <td>benign</td>\n",
       "    </tr>\n",
       "    <tr>\n",
       "      <th>1</th>\n",
       "      <td>0.647059</td>\n",
       "      <td>0.241379</td>\n",
       "      <td>0.0</td>\n",
       "      <td>0.294118</td>\n",
       "      <td>0.666667</td>\n",
       "      <td>0.442238</td>\n",
       "      <td>0.75</td>\n",
       "      <td>0.833333</td>\n",
       "      <td>0.166667</td>\n",
       "      <td>0.054645</td>\n",
       "      <td>0.272727</td>\n",
       "      <td>1.0</td>\n",
       "      <td>heavy_attack</td>\n",
       "    </tr>\n",
       "    <tr>\n",
       "      <th>2</th>\n",
       "      <td>0.676471</td>\n",
       "      <td>0.275862</td>\n",
       "      <td>0.0</td>\n",
       "      <td>0.294118</td>\n",
       "      <td>0.750000</td>\n",
       "      <td>0.618712</td>\n",
       "      <td>0.75</td>\n",
       "      <td>0.833333</td>\n",
       "      <td>0.166667</td>\n",
       "      <td>0.060109</td>\n",
       "      <td>0.303030</td>\n",
       "      <td>1.0</td>\n",
       "      <td>benign</td>\n",
       "    </tr>\n",
       "    <tr>\n",
       "      <th>3</th>\n",
       "      <td>0.323529</td>\n",
       "      <td>0.103448</td>\n",
       "      <td>0.0</td>\n",
       "      <td>0.264706</td>\n",
       "      <td>0.166667</td>\n",
       "      <td>0.553161</td>\n",
       "      <td>0.25</td>\n",
       "      <td>0.333333</td>\n",
       "      <td>0.133333</td>\n",
       "      <td>0.071038</td>\n",
       "      <td>0.242424</td>\n",
       "      <td>1.0</td>\n",
       "      <td>benign</td>\n",
       "    </tr>\n",
       "    <tr>\n",
       "      <th>4</th>\n",
       "      <td>0.705882</td>\n",
       "      <td>0.310345</td>\n",
       "      <td>0.0</td>\n",
       "      <td>0.294118</td>\n",
       "      <td>0.833333</td>\n",
       "      <td>0.608137</td>\n",
       "      <td>0.75</td>\n",
       "      <td>0.833333</td>\n",
       "      <td>0.166667</td>\n",
       "      <td>0.065574</td>\n",
       "      <td>0.333333</td>\n",
       "      <td>1.0</td>\n",
       "      <td>heavy_attack</td>\n",
       "    </tr>\n",
       "  </tbody>\n",
       "</table>\n",
       "</div>"
      ],
      "text/plain": [
       "   FQDN_count  subdomain_length  upper     lower   numeric   entropy  special  \\\n",
       "0    0.647059          0.241379    0.0  0.294118  0.666667  0.442238     0.75   \n",
       "1    0.647059          0.241379    0.0  0.294118  0.666667  0.442238     0.75   \n",
       "2    0.676471          0.275862    0.0  0.294118  0.750000  0.618712     0.75   \n",
       "3    0.323529          0.103448    0.0  0.264706  0.166667  0.553161     0.25   \n",
       "4    0.705882          0.310345    0.0  0.294118  0.833333  0.608137     0.75   \n",
       "\n",
       "     labels  labels_max  labels_average       len  subdomain         Label  \n",
       "0  0.833333    0.166667        0.054645  0.272727        1.0        benign  \n",
       "1  0.833333    0.166667        0.054645  0.272727        1.0  heavy_attack  \n",
       "2  0.833333    0.166667        0.060109  0.303030        1.0        benign  \n",
       "3  0.333333    0.133333        0.071038  0.242424        1.0        benign  \n",
       "4  0.833333    0.166667        0.065574  0.333333        1.0  heavy_attack  "
      ]
     },
     "execution_count": 34,
     "metadata": {},
     "output_type": "execute_result"
    }
   ],
   "source": [
    "# copy the data\n",
    "df_min_max_scaled = data_dupl_drop.copy()\n",
    "\n",
    "# apply normalization techniques\n",
    "for column in df_min_max_scaled.columns[:-1]:\n",
    "    df_min_max_scaled[column] =(df_min_max_scaled[column] - df_min_max_scaled[column].min()) / (df_min_max_scaled[column].max() - df_min_max_scaled[column].min())\n",
    "\n",
    "# view normalized data\n",
    "df_min_max_scaled.head()\n"
   ]
  },
  {
   "cell_type": "code",
   "execution_count": 35,
   "id": "a2d5c3c0",
   "metadata": {},
   "outputs": [
    {
     "data": {
      "text/html": [
       "<div>\n",
       "<style scoped>\n",
       "    .dataframe tbody tr th:only-of-type {\n",
       "        vertical-align: middle;\n",
       "    }\n",
       "\n",
       "    .dataframe tbody tr th {\n",
       "        vertical-align: top;\n",
       "    }\n",
       "\n",
       "    .dataframe thead th {\n",
       "        text-align: right;\n",
       "    }\n",
       "</style>\n",
       "<table border=\"1\" class=\"dataframe\">\n",
       "  <thead>\n",
       "    <tr style=\"text-align: right;\">\n",
       "      <th></th>\n",
       "      <th>FQDN_count</th>\n",
       "      <th>subdomain_length</th>\n",
       "      <th>upper</th>\n",
       "      <th>lower</th>\n",
       "      <th>numeric</th>\n",
       "      <th>entropy</th>\n",
       "      <th>special</th>\n",
       "      <th>labels</th>\n",
       "      <th>labels_max</th>\n",
       "      <th>labels_average</th>\n",
       "      <th>len</th>\n",
       "      <th>subdomain</th>\n",
       "    </tr>\n",
       "  </thead>\n",
       "  <tbody>\n",
       "    <tr>\n",
       "      <th>0</th>\n",
       "      <td>0.647059</td>\n",
       "      <td>0.241379</td>\n",
       "      <td>0.0</td>\n",
       "      <td>0.294118</td>\n",
       "      <td>0.666667</td>\n",
       "      <td>0.442238</td>\n",
       "      <td>0.75</td>\n",
       "      <td>0.833333</td>\n",
       "      <td>0.166667</td>\n",
       "      <td>0.054645</td>\n",
       "      <td>0.272727</td>\n",
       "      <td>1.0</td>\n",
       "    </tr>\n",
       "    <tr>\n",
       "      <th>1</th>\n",
       "      <td>0.647059</td>\n",
       "      <td>0.241379</td>\n",
       "      <td>0.0</td>\n",
       "      <td>0.294118</td>\n",
       "      <td>0.666667</td>\n",
       "      <td>0.442238</td>\n",
       "      <td>0.75</td>\n",
       "      <td>0.833333</td>\n",
       "      <td>0.166667</td>\n",
       "      <td>0.054645</td>\n",
       "      <td>0.272727</td>\n",
       "      <td>1.0</td>\n",
       "    </tr>\n",
       "    <tr>\n",
       "      <th>2</th>\n",
       "      <td>0.676471</td>\n",
       "      <td>0.275862</td>\n",
       "      <td>0.0</td>\n",
       "      <td>0.294118</td>\n",
       "      <td>0.750000</td>\n",
       "      <td>0.618712</td>\n",
       "      <td>0.75</td>\n",
       "      <td>0.833333</td>\n",
       "      <td>0.166667</td>\n",
       "      <td>0.060109</td>\n",
       "      <td>0.303030</td>\n",
       "      <td>1.0</td>\n",
       "    </tr>\n",
       "    <tr>\n",
       "      <th>3</th>\n",
       "      <td>0.323529</td>\n",
       "      <td>0.103448</td>\n",
       "      <td>0.0</td>\n",
       "      <td>0.264706</td>\n",
       "      <td>0.166667</td>\n",
       "      <td>0.553161</td>\n",
       "      <td>0.25</td>\n",
       "      <td>0.333333</td>\n",
       "      <td>0.133333</td>\n",
       "      <td>0.071038</td>\n",
       "      <td>0.242424</td>\n",
       "      <td>1.0</td>\n",
       "    </tr>\n",
       "    <tr>\n",
       "      <th>4</th>\n",
       "      <td>0.705882</td>\n",
       "      <td>0.310345</td>\n",
       "      <td>0.0</td>\n",
       "      <td>0.294118</td>\n",
       "      <td>0.833333</td>\n",
       "      <td>0.608137</td>\n",
       "      <td>0.75</td>\n",
       "      <td>0.833333</td>\n",
       "      <td>0.166667</td>\n",
       "      <td>0.065574</td>\n",
       "      <td>0.333333</td>\n",
       "      <td>1.0</td>\n",
       "    </tr>\n",
       "  </tbody>\n",
       "</table>\n",
       "</div>"
      ],
      "text/plain": [
       "   FQDN_count  subdomain_length  upper     lower   numeric   entropy  special  \\\n",
       "0    0.647059          0.241379    0.0  0.294118  0.666667  0.442238     0.75   \n",
       "1    0.647059          0.241379    0.0  0.294118  0.666667  0.442238     0.75   \n",
       "2    0.676471          0.275862    0.0  0.294118  0.750000  0.618712     0.75   \n",
       "3    0.323529          0.103448    0.0  0.264706  0.166667  0.553161     0.25   \n",
       "4    0.705882          0.310345    0.0  0.294118  0.833333  0.608137     0.75   \n",
       "\n",
       "     labels  labels_max  labels_average       len  subdomain  \n",
       "0  0.833333    0.166667        0.054645  0.272727        1.0  \n",
       "1  0.833333    0.166667        0.054645  0.272727        1.0  \n",
       "2  0.833333    0.166667        0.060109  0.303030        1.0  \n",
       "3  0.333333    0.133333        0.071038  0.242424        1.0  \n",
       "4  0.833333    0.166667        0.065574  0.333333        1.0  "
      ]
     },
     "execution_count": 35,
     "metadata": {},
     "output_type": "execute_result"
    }
   ],
   "source": [
    "X = df_min_max_scaled.drop(['Label'], axis=1)\n",
    "X.head()"
   ]
  },
  {
   "cell_type": "code",
   "execution_count": 47,
   "id": "502e965b",
   "metadata": {},
   "outputs": [
    {
     "data": {
      "text/plain": [
       "0          benign\n",
       "1    heavy_attack\n",
       "2          benign\n",
       "3          benign\n",
       "4    heavy_attack\n",
       "Name: Label, dtype: object"
      ]
     },
     "execution_count": 47,
     "metadata": {},
     "output_type": "execute_result"
    }
   ],
   "source": [
    "y = df_min_max_scaled['Label']\n",
    "y.head()"
   ]
  },
  {
   "cell_type": "code",
   "execution_count": 37,
   "id": "6baddf89",
   "metadata": {},
   "outputs": [
    {
     "name": "stdout",
     "output_type": "stream",
     "text": [
      "Training split input-  (4529, 12)\n",
      "Testing split input-  (1941, 12)\n"
     ]
    }
   ],
   "source": [
    "from sklearn.model_selection import train_test_split\n",
    "\n",
    "# Splitting the data - 70:30 ratio\n",
    "X_train, X_test, y_train, y_test = train_test_split(X , y, test_size = 0.3, random_state = 0)\n",
    "print(\"Training split input- \", X_train.shape)\n",
    "print(\"Testing split input- \", X_test.shape)"
   ]
  },
  {
   "cell_type": "markdown",
   "id": "ce35c804",
   "metadata": {},
   "source": [
    "## Train And Test"
   ]
  },
  {
   "cell_type": "code",
   "execution_count": 38,
   "id": "cba316d6",
   "metadata": {},
   "outputs": [],
   "source": [
    "# import required libraries\n",
    "from sklearn.model_selection import train_test_split\n",
    "from sklearn.tree import DecisionTreeClassifier\n",
    "from sklearn.metrics import classification_report, confusion_matrix, plot_roc_curve\n",
    "from sklearn.tree import plot_tree"
   ]
  },
  {
   "cell_type": "markdown",
   "id": "662fff96",
   "metadata": {},
   "source": [
    "## Decision Tree Classifier: Baseline model"
   ]
  },
  {
   "cell_type": "code",
   "execution_count": 39,
   "id": "3cb1e65b",
   "metadata": {},
   "outputs": [
    {
     "name": "stdout",
     "output_type": "stream",
     "text": [
      "Decision Tree Classifer Created\n"
     ]
    }
   ],
   "source": [
    "# Defining the decision tree algorithm\n",
    "dtree = DecisionTreeClassifier()\n",
    "dtree.fit(X_train,y_train)\n",
    "\n",
    "print('Decision Tree Classifer Created')"
   ]
  },
  {
   "cell_type": "markdown",
   "id": "4bd3bd99",
   "metadata": {},
   "source": [
    "## Testing"
   ]
  },
  {
   "cell_type": "code",
   "execution_count": 40,
   "id": "8d185b1f",
   "metadata": {},
   "outputs": [
    {
     "name": "stdout",
     "output_type": "stream",
     "text": [
      "Classification report - \n",
      "               precision    recall  f1-score   support\n",
      "\n",
      "      benign       0.98      0.98      0.98      1897\n",
      "heavy_attack       0.12      0.09      0.10        32\n",
      "light_attack       0.00      0.00      0.00        12\n",
      "\n",
      "    accuracy                           0.96      1941\n",
      "   macro avg       0.37      0.36      0.36      1941\n",
      "weighted avg       0.96      0.96      0.96      1941\n",
      "\n"
     ]
    }
   ],
   "source": [
    "# Predicting the values of test data\n",
    "y_pred = dtree.predict(X_test)\n",
    "print(\"Classification report - \\n\", classification_report(y_test,y_pred))"
   ]
  },
  {
   "cell_type": "code",
   "execution_count": 41,
   "id": "f7b9d8ba",
   "metadata": {},
   "outputs": [
    {
     "data": {
      "text/plain": [
       "array([[1867,   21,    9],\n",
       "       [  20,    3,    9],\n",
       "       [  10,    2,    0]], dtype=int64)"
      ]
     },
     "execution_count": 41,
     "metadata": {},
     "output_type": "execute_result"
    }
   ],
   "source": [
    "from sklearn.metrics import confusion_matrix\n",
    "cm= confusion_matrix(y_test,y_pred)\n",
    "cm"
   ]
  },
  {
   "cell_type": "markdown",
   "id": "bcf7f4ad",
   "metadata": {},
   "source": [
    "## To treat imbalanced data, We will use upsampling technique and mixed (upsampling and downsampling) techniques."
   ]
  },
  {
   "cell_type": "code",
   "execution_count": 42,
   "id": "faeb8129",
   "metadata": {},
   "outputs": [],
   "source": [
    "from imblearn.over_sampling import SMOTE\n",
    "from imblearn.combine import SMOTEENN, SMOTETomek"
   ]
  },
  {
   "cell_type": "markdown",
   "id": "c02e0da5",
   "metadata": {},
   "source": [
    "## SMOTE"
   ]
  },
  {
   "cell_type": "code",
   "execution_count": 43,
   "id": "473e5cf8",
   "metadata": {},
   "outputs": [
    {
     "name": "stdout",
     "output_type": "stream",
     "text": [
      "After OverSampling, the shape of train_X: (18993, 12)\n",
      "After OverSampling, the shape of train_y: (18993,) \n",
      "\n",
      "After OverSampling, counts of label '1': 6331\n",
      "After OverSampling, counts of label '0': 6331\n",
      "After OverSampling, counts of label '2': 6331\n"
     ]
    }
   ],
   "source": [
    "sm = SMOTE(random_state=2)\n",
    "X_res, y_res = sm.fit_resample(X, y)\n",
    "\n",
    "print('After OverSampling, the shape of train_X: {}'.format(X_res.shape))\n",
    "print('After OverSampling, the shape of train_y: {} \\n'.format(y_res.shape))\n",
    "\n",
    "print(\"After OverSampling, counts of label '2': {}\".format(sum(y_res=='light_attack')))\n",
    "print(\"After OverSampling, counts of label '0': {}\".format(sum(y_res=='benign')))\n",
    "print(\"After OverSampling, counts of label '1': {}\".format(sum(y_res=='heavy_attack')))"
   ]
  },
  {
   "cell_type": "code",
   "execution_count": 48,
   "id": "168fffd1",
   "metadata": {},
   "outputs": [
    {
     "data": {
      "image/png": "[encoded data removed]",
      "text/plain": [
       "<Figure size 432x288 with 1 Axes>"
      ]
     },
     "metadata": {
      "needs_background": "light"
     },
     "output_type": "display_data"
    }
   ],
   "source": [
    "labels = ['benign', 'heavy_attack', 'light_attack']\n",
    "classes = y_res.value_counts()\n",
    "\n",
    "total = classes.sum()\n",
    "# calculate percentage\n",
    "percentage = []\n",
    "for i in range(len(classes)):\n",
    "    pct = (classes[i] / total) * 100\n",
    "    percentage.append(round(pct,2))\n",
    "graph = plt.bar(classes.index, classes.values)\n",
    "plt.title(\"Class Distribution\")\n",
    "plt.xticks(range(3), labels)\n",
    "plt.xlabel(\"Class\")\n",
    "plt.ylabel(\"Frequency\") \n",
    "\n",
    "i = 0\n",
    "for p in graph:\n",
    "    width = p.get_width()\n",
    "    height = p.get_height()\n",
    "    x, y2 = p.get_xy()\n",
    "    plt.text(x+width/2,\n",
    "             y2+height*1.01,\n",
    "             str(percentage[i])+'%',\n",
    "             ha='center',\n",
    "             weight='bold')\n",
    "    i+=1\n",
    "plt.savefig(\"Class_distribution_balanced_smote.png\")"
   ]
  },
  {
   "cell_type": "code",
   "execution_count": 38,
   "id": "30ba316a",
   "metadata": {},
   "outputs": [
    {
     "name": "stdout",
     "output_type": "stream",
     "text": [
      "Training split input-  (13295, 12)\n",
      "Testing split input-  (5698, 12)\n"
     ]
    }
   ],
   "source": [
    "# Splitting upsampled data - into 70:30 ratio\n",
    "X_train_res, X_test_res, y_train_res, y_test_res = train_test_split(X_res , y_res, test_size = 0.3, random_state = 0)\n",
    "print(\"Training split input- \", X_train_res.shape)\n",
    "print(\"Testing split input- \", X_test_res.shape)"
   ]
  },
  {
   "cell_type": "code",
   "execution_count": 39,
   "id": "deb98f9e",
   "metadata": {},
   "outputs": [
    {
     "name": "stdout",
     "output_type": "stream",
     "text": [
      "Decision Tree Classifer Created\n"
     ]
    }
   ],
   "source": [
    "# Defining the decision tree algorithm\n",
    "dtree1 = DecisionTreeClassifier()\n",
    "dtree1.fit(X_train_res, y_train_res)\n",
    "\n",
    "print('Decision Tree Classifer Created')"
   ]
  },
  {
   "cell_type": "code",
   "execution_count": 40,
   "id": "5b0ea5bb",
   "metadata": {},
   "outputs": [
    {
     "name": "stdout",
     "output_type": "stream",
     "text": [
      "Classification report - \n",
      "               precision    recall  f1-score   support\n",
      "\n",
      "      benign       0.97      0.97      0.97      1822\n",
      "heavy_attack       0.73      0.74      0.74      1955\n",
      "light_attack       0.74      0.73      0.74      1921\n",
      "\n",
      "    accuracy                           0.81      5698\n",
      "   macro avg       0.81      0.81      0.81      5698\n",
      "weighted avg       0.81      0.81      0.81      5698\n",
      "\n"
     ]
    }
   ],
   "source": [
    "y_pred1_t = dtree1.predict(X_test_res)\n",
    "print(\"Classification report - \\n\", classification_report(y_test_res, y_pred1_t))"
   ]
  },
  {
   "cell_type": "code",
   "execution_count": 41,
   "id": "2f5b5082",
   "metadata": {},
   "outputs": [
    {
     "data": {
      "text/plain": [
       "array([[1772,   36,   14],\n",
       "       [  38, 1445,  472],\n",
       "       [  19,  495, 1407]], dtype=int64)"
      ]
     },
     "execution_count": 41,
     "metadata": {},
     "output_type": "execute_result"
    }
   ],
   "source": [
    "cm1_t = confusion_matrix(y_test_res, y_pred1_t)\n",
    "cm1_t"
   ]
  },
  {
   "cell_type": "code",
   "execution_count": 42,
   "id": "34af2e85",
   "metadata": {},
   "outputs": [
    {
     "data": {
      "text/plain": [
       "Text(0.5, 1.0, 'Accuracy Score: 0.8115128115128115')"
      ]
     },
     "execution_count": 42,
     "metadata": {},
     "output_type": "execute_result"
    },
    {
     "data": {
      "image/png": "[encoded data removed]",
      "text/plain": [
       "<Figure size 576x576 with 2 Axes>"
      ]
     },
     "metadata": {
      "needs_background": "light"
     },
     "output_type": "display_data"
    }
   ],
   "source": [
    "plt.figure(figsize=(8,8))\n",
    "\n",
    "sns.heatmap(data=cm1_t, linewidths=.5, annot=True, square = True,  cmap = 'Blues', fmt=\"d\")\n",
    "\n",
    "plt.ylabel('Actual label')\n",
    "plt.xlabel('Predicted label')\n",
    "\n",
    "all_sample_title = 'Accuracy Score: {0}'.format(dtree1.score(X_test_res, y_test_res))\n",
    "plt.title(all_sample_title, size = 15)\n",
    "\n",
    "#plt.savefig(\"one.png\")"
   ]
  },
  {
   "cell_type": "markdown",
   "id": "44269c81",
   "metadata": {},
   "source": [
    "### Naive Bayes classifier"
   ]
  },
  {
   "cell_type": "code",
   "execution_count": 43,
   "id": "e1d8b9b3",
   "metadata": {},
   "outputs": [
    {
     "data": {
      "text/plain": [
       "GaussianNB()"
      ]
     },
     "execution_count": 43,
     "metadata": {},
     "output_type": "execute_result"
    }
   ],
   "source": [
    "#Import Gaussian Naive Bayes model\n",
    "from sklearn.naive_bayes import GaussianNB\n",
    "\n",
    "#Create a Gaussian Classifier\n",
    "gnb1 = GaussianNB()\n",
    "\n",
    "#Train the model using the training sets\n",
    "gnb1.fit(X_train_res, y_train_res)"
   ]
  },
  {
   "cell_type": "code",
   "execution_count": 44,
   "id": "ca072819",
   "metadata": {},
   "outputs": [
    {
     "name": "stdout",
     "output_type": "stream",
     "text": [
      "Classification report - \n",
      "               precision    recall  f1-score   support\n",
      "\n",
      "      benign       0.56      0.95      0.70      1822\n",
      "heavy_attack       0.61      0.31      0.41      1955\n",
      "light_attack       0.56      0.47      0.51      1921\n",
      "\n",
      "    accuracy                           0.57      5698\n",
      "   macro avg       0.58      0.58      0.54      5698\n",
      "weighted avg       0.58      0.57      0.54      5698\n",
      "\n"
     ]
    }
   ],
   "source": [
    "# Predicting the values of test data\n",
    "y_pred_gnb1 = gnb1.predict(X_test_res)\n",
    "print(\"Classification report - \\n\", classification_report(y_test_res,y_pred_gnb1))"
   ]
  },
  {
   "cell_type": "code",
   "execution_count": 45,
   "id": "7a81d31e",
   "metadata": {},
   "outputs": [
    {
     "data": {
      "text/plain": [
       "Text(0.5, 1.0, 'Accuracy Score: 0.568971568971569')"
      ]
     },
     "execution_count": 45,
     "metadata": {},
     "output_type": "execute_result"
    },
    {
     "data": {
      "image/png": "[encoded data removed]",
      "text/plain": [
       "<Figure size 576x576 with 2 Axes>"
      ]
     },
     "metadata": {
      "needs_background": "light"
     },
     "output_type": "display_data"
    }
   ],
   "source": [
    "cm_gnb1 = confusion_matrix(y_test_res, y_pred_gnb1)\n",
    "plt.figure(figsize=(8,8))\n",
    "\n",
    "sns.heatmap(data=cm_gnb1,linewidths=.5, annot=True,square = True,  cmap = 'Blues', fmt=\"d\")\n",
    "\n",
    "plt.ylabel('Actual label')\n",
    "plt.xlabel('Predicted label')\n",
    "\n",
    "all_sample_title_gnb1 = 'Accuracy Score: {0}'.format(gnb1.score(X_test_res, y_test_res))\n",
    "plt.title(all_sample_title_gnb1, size = 15)\n",
    "\n",
    "# plt.savefig(\"one.png\")"
   ]
  },
  {
   "cell_type": "markdown",
   "id": "06f47c4b",
   "metadata": {},
   "source": [
    "# Random Forest Classifier"
   ]
  },
  {
   "cell_type": "code",
   "execution_count": 46,
   "id": "f086c858",
   "metadata": {},
   "outputs": [
    {
     "data": {
      "text/plain": [
       "RandomForestClassifier()"
      ]
     },
     "execution_count": 46,
     "metadata": {},
     "output_type": "execute_result"
    }
   ],
   "source": [
    "from sklearn.ensemble import RandomForestClassifier\n",
    "\n",
    "#Create a Gaussian Classifier\n",
    "Rf1=RandomForestClassifier(n_estimators=100)\n",
    "\n",
    "#Train the model using the training sets y_pred=clf.predict(X_test)\n",
    "Rf1.fit(X_train_res,y_train_res)"
   ]
  },
  {
   "cell_type": "code",
   "execution_count": 47,
   "id": "0749b3d2",
   "metadata": {},
   "outputs": [
    {
     "name": "stdout",
     "output_type": "stream",
     "text": [
      "Classification report - \n",
      "               precision    recall  f1-score   support\n",
      "\n",
      "      benign       0.98      0.98      0.98      1822\n",
      "heavy_attack       0.75      0.74      0.74      1955\n",
      "light_attack       0.74      0.75      0.75      1921\n",
      "\n",
      "    accuracy                           0.82      5698\n",
      "   macro avg       0.82      0.82      0.82      5698\n",
      "weighted avg       0.82      0.82      0.82      5698\n",
      "\n"
     ]
    }
   ],
   "source": [
    "# Predicting the values of test data\n",
    "y_pred_Rf1 = Rf1.predict(X_test_res)\n",
    "print(\"Classification report - \\n\", classification_report(y_test_res, y_pred_Rf1))"
   ]
  },
  {
   "cell_type": "code",
   "execution_count": 48,
   "id": "4bc4fc81",
   "metadata": {},
   "outputs": [
    {
     "data": {
      "text/plain": [
       "Text(0.5, 1.0, 'Accuracy Score: 0.8215163215163215')"
      ]
     },
     "execution_count": 48,
     "metadata": {},
     "output_type": "execute_result"
    },
    {
     "data": {
      "image/png": "[encoded data removed]",
      "text/plain": [
       "<Figure size 576x576 with 2 Axes>"
      ]
     },
     "metadata": {
      "needs_background": "light"
     },
     "output_type": "display_data"
    }
   ],
   "source": [
    "cm_Rf1 = confusion_matrix(y_test_res, y_pred_Rf1)\n",
    "plt.figure(figsize=(8,8))\n",
    "\n",
    "sns.heatmap(data=cm_Rf1,linewidths=.5, annot=True,square = True,  cmap = 'Blues', fmt=\"d\")\n",
    "\n",
    "plt.ylabel('Actual label')\n",
    "plt.xlabel('Predicted label')\n",
    "\n",
    "all_sample_title_Rf1 = 'Accuracy Score: {0}'.format(Rf1.score(X_test_res, y_test_res))\n",
    "plt.title(all_sample_title_Rf1, size = 15)\n",
    "\n",
    "#plt.savefig(\"one.png\")"
   ]
  },
  {
   "cell_type": "markdown",
   "id": "2ce3dbee",
   "metadata": {},
   "source": [
    "### Adaboost classifier"
   ]
  },
  {
   "cell_type": "code",
   "execution_count": 49,
   "id": "874eda58",
   "metadata": {},
   "outputs": [],
   "source": [
    "from sklearn.ensemble import AdaBoostClassifier\n",
    "\n",
    "# Create adaboost classifer object\n",
    "abc1 = AdaBoostClassifier(n_estimators=50, learning_rate=1)\n",
    "# Train Adaboost Classifer\n",
    "model1 = abc1.fit(X_train_res, y_train_res)"
   ]
  },
  {
   "cell_type": "code",
   "execution_count": 50,
   "id": "2b4d0039",
   "metadata": {},
   "outputs": [
    {
     "name": "stdout",
     "output_type": "stream",
     "text": [
      "Classification report - \n",
      "               precision    recall  f1-score   support\n",
      "\n",
      "      benign       0.93      0.92      0.92      1822\n",
      "heavy_attack       0.58      0.51      0.54      1955\n",
      "light_attack       0.58      0.67      0.62      1921\n",
      "\n",
      "    accuracy                           0.69      5698\n",
      "   macro avg       0.70      0.70      0.70      5698\n",
      "weighted avg       0.69      0.69      0.69      5698\n",
      "\n"
     ]
    }
   ],
   "source": [
    "# Predicting the values of test data\n",
    "y_pred_abc1 = model1.predict(X_test_res)\n",
    "print(\"Classification report - \\n\", classification_report(y_test_res, y_pred_abc1))"
   ]
  },
  {
   "cell_type": "code",
   "execution_count": 51,
   "id": "94cf0f59",
   "metadata": {},
   "outputs": [
    {
     "data": {
      "text/plain": [
       "Text(0.5, 1.0, 'Accuracy Score: 0.6928746928746928')"
      ]
     },
     "execution_count": 51,
     "metadata": {},
     "output_type": "execute_result"
    },
    {
     "data": {
      "image/png": "[encoded data removed]",
      "text/plain": [
       "<Figure size 576x576 with 2 Axes>"
      ]
     },
     "metadata": {
      "needs_background": "light"
     },
     "output_type": "display_data"
    }
   ],
   "source": [
    "cm_abc1 = confusion_matrix(y_test_res, y_pred_abc1)\n",
    "plt.figure(figsize=(8,8))\n",
    "\n",
    "sns.heatmap(data=cm_abc1,linewidths=.5, annot=True,square = True,  cmap = 'Blues', fmt=\"d\")\n",
    "\n",
    "plt.ylabel('Actual label')\n",
    "plt.xlabel('Predicted label')\n",
    "\n",
    "all_sample_title_abc1 = 'Accuracy Score: {0}'.format(model1.score(X_test_res, y_test_res))\n",
    "plt.title(all_sample_title_abc1, size = 15)\n",
    "\n",
    "# plt.savefig(\"one.png\")"
   ]
  },
  {
   "cell_type": "markdown",
   "id": "78075c30",
   "metadata": {},
   "source": [
    "### SMOTEENN"
   ]
  },
  {
   "cell_type": "code",
   "execution_count": 49,
   "id": "52f5c71b",
   "metadata": {},
   "outputs": [
    {
     "name": "stdout",
     "output_type": "stream",
     "text": [
      "Resampled dataset shape Counter({'benign': 5985, 'heavy_attack': 3675, 'light_attack': 3186})\n"
     ]
    }
   ],
   "source": [
    "from collections import Counter\n",
    "sme = SMOTEENN(random_state=42)\n",
    "X_res1, y_res1 = sme.fit_resample(X, y)\n",
    "print('Resampled dataset shape %s' % Counter(y_res1))"
   ]
  },
  {
   "cell_type": "code",
   "execution_count": 50,
   "id": "44c0bb90",
   "metadata": {},
   "outputs": [
    {
     "data": {
      "image/png": "[encoded data removed]",
      "text/plain": [
       "<Figure size 432x288 with 1 Axes>"
      ]
     },
     "metadata": {
      "needs_background": "light"
     },
     "output_type": "display_data"
    }
   ],
   "source": [
    "labels = ['benign', 'heavy_attack', 'light_attack']\n",
    "classes = y_res1.value_counts()\n",
    "\n",
    "total = classes.sum()\n",
    "# calculate percentage\n",
    "percentage = []\n",
    "for i in range(len(classes)):\n",
    "    pct = (classes[i] / total) * 100\n",
    "    percentage.append(round(pct,2))\n",
    "graph = plt.bar(classes.index, classes.values)\n",
    "plt.title(\"Class Distribution\")\n",
    "plt.xticks(range(3), labels)\n",
    "plt.xlabel(\"Class\")\n",
    "plt.ylabel(\"Frequency\") \n",
    "\n",
    "i = 0\n",
    "for p in graph:\n",
    "    width = p.get_width()\n",
    "    height = p.get_height()\n",
    "    x, y3 = p.get_xy()\n",
    "    plt.text(x+width/2,\n",
    "             y3+height*1.01,\n",
    "             str(percentage[i])+'%',\n",
    "             ha='center',\n",
    "             weight='bold')\n",
    "    i+=1\n",
    "plt.savefig(\"Class_distribution_balanced_smoteenn.png\")"
   ]
  },
  {
   "cell_type": "code",
   "execution_count": 53,
   "id": "18cc99a1",
   "metadata": {},
   "outputs": [
    {
     "name": "stdout",
     "output_type": "stream",
     "text": [
      "Training split input-  (9039, 12)\n",
      "Testing split input-  (3874, 12)\n"
     ]
    }
   ],
   "source": [
    "# Splitting upsampled data - into 70:30 ratio\n",
    "X_train_res1, X_test_res1, y_train_res1, y_test_res1 = train_test_split(X_res1 , y_res1, test_size = 0.3, random_state = 0)\n",
    "print(\"Training split input- \", X_train_res1.shape)\n",
    "print(\"Testing split input- \", X_test_res1.shape)"
   ]
  },
  {
   "cell_type": "code",
   "execution_count": 54,
   "id": "40efeb9c",
   "metadata": {},
   "outputs": [
    {
     "name": "stdout",
     "output_type": "stream",
     "text": [
      "Decision Tree Classifer Created\n"
     ]
    }
   ],
   "source": [
    "# Defining the decision tree algorithm\n",
    "dtree2 = DecisionTreeClassifier()\n",
    "dtree2.fit(X_train_res1, y_train_res1)\n",
    "\n",
    "print('Decision Tree Classifer Created')"
   ]
  },
  {
   "cell_type": "code",
   "execution_count": 55,
   "id": "8bda5e74",
   "metadata": {},
   "outputs": [
    {
     "name": "stdout",
     "output_type": "stream",
     "text": [
      "Classification report - \n",
      "               precision    recall  f1-score   support\n",
      "\n",
      "      benign       0.99      0.99      0.99      1748\n",
      "heavy_attack       0.96      0.96      0.96      1123\n",
      "light_attack       0.95      0.96      0.95      1003\n",
      "\n",
      "    accuracy                           0.97      3874\n",
      "   macro avg       0.97      0.97      0.97      3874\n",
      "weighted avg       0.97      0.97      0.97      3874\n",
      "\n"
     ]
    }
   ],
   "source": [
    "# Predicting the values of test data\n",
    "y_pred_dt2 = dtree2.predict(X_test_res1)\n",
    "print(\"Classification report - \\n\", classification_report(y_test_res1,y_pred_dt2))"
   ]
  },
  {
   "cell_type": "code",
   "execution_count": 56,
   "id": "9de5876c",
   "metadata": {},
   "outputs": [
    {
     "data": {
      "text/plain": [
       "array([[1729,    7,   12],\n",
       "       [   6, 1076,   41],\n",
       "       [   4,   37,  962]], dtype=int64)"
      ]
     },
     "execution_count": 56,
     "metadata": {},
     "output_type": "execute_result"
    }
   ],
   "source": [
    "cm_dt2 = confusion_matrix(y_test_res1, y_pred_dt2)\n",
    "cm_dt2"
   ]
  },
  {
   "cell_type": "code",
   "execution_count": 57,
   "id": "cddd3547",
   "metadata": {},
   "outputs": [
    {
     "data": {
      "text/plain": [
       "Text(0.5, 1.0, 'Accuracy Score: 0.9723799690242644')"
      ]
     },
     "execution_count": 57,
     "metadata": {},
     "output_type": "execute_result"
    },
    {
     "data": {
      "image/png": "[encoded data removed]",
      "text/plain": [
       "<Figure size 576x576 with 2 Axes>"
      ]
     },
     "metadata": {
      "needs_background": "light"
     },
     "output_type": "display_data"
    }
   ],
   "source": [
    "#cm_dt2 = confusion_matrix(y_test, y_pred_dt2)\n",
    "plt.figure(figsize=(8,8))\n",
    "\n",
    "sns.heatmap(data=cm_dt2,linewidths=.5, annot=True,square = True,  cmap = 'Blues', fmt=\"d\")\n",
    "\n",
    "plt.ylabel('Actual label')\n",
    "plt.xlabel('Predicted label')\n",
    "\n",
    "all_sample_title_dt2 = 'Accuracy Score: {0}'.format(dtree2.score(X_test_res1, y_test_res1))\n",
    "plt.title(all_sample_title_dt2, size = 15)\n",
    "\n",
    "# plt.savefig(\"one.png\")"
   ]
  },
  {
   "cell_type": "markdown",
   "id": "90bfe161",
   "metadata": {},
   "source": [
    "### Naive Bayes Classifier"
   ]
  },
  {
   "cell_type": "code",
   "execution_count": 58,
   "id": "009e5d78",
   "metadata": {},
   "outputs": [
    {
     "data": {
      "text/plain": [
       "GaussianNB()"
      ]
     },
     "execution_count": 58,
     "metadata": {},
     "output_type": "execute_result"
    }
   ],
   "source": [
    "#Import Gaussian Naive Bayes model\n",
    "from sklearn.naive_bayes import GaussianNB\n",
    "\n",
    "#Create a Gaussian Classifier\n",
    "gnb2 = GaussianNB()\n",
    "\n",
    "#Train the model using the training sets\n",
    "gnb2.fit(X_train_res1, y_train_res1)\n"
   ]
  },
  {
   "cell_type": "code",
   "execution_count": 59,
   "id": "5f1d6063",
   "metadata": {},
   "outputs": [
    {
     "name": "stdout",
     "output_type": "stream",
     "text": [
      "Classification report - \n",
      "               precision    recall  f1-score   support\n",
      "\n",
      "      benign       0.60      0.99      0.75      1748\n",
      "heavy_attack       0.61      0.27      0.37      1123\n",
      "light_attack       0.68      0.32      0.44      1003\n",
      "\n",
      "    accuracy                           0.61      3874\n",
      "   macro avg       0.63      0.53      0.52      3874\n",
      "weighted avg       0.62      0.61      0.56      3874\n",
      "\n"
     ]
    }
   ],
   "source": [
    "# Predicting the values of test data\n",
    "y_pred_gnb2 = gnb2.predict(X_test_res1)\n",
    "print(\"Classification report - \\n\", classification_report(y_test_res1, y_pred_gnb2))"
   ]
  },
  {
   "cell_type": "code",
   "execution_count": 60,
   "id": "e888070f",
   "metadata": {},
   "outputs": [
    {
     "data": {
      "text/plain": [
       "Text(0.5, 1.0, 'Accuracy Score: 0.6084150748580279')"
      ]
     },
     "execution_count": 60,
     "metadata": {},
     "output_type": "execute_result"
    },
    {
     "data": {
      "image/png": "[encoded data removed]",
      "text/plain": [
       "<Figure size 576x576 with 2 Axes>"
      ]
     },
     "metadata": {
      "needs_background": "light"
     },
     "output_type": "display_data"
    }
   ],
   "source": [
    "cm_gnb2 = confusion_matrix(y_test_res1, y_pred_gnb2)\n",
    "plt.figure(figsize=(8,8))\n",
    "\n",
    "sns.heatmap(data=cm_gnb2,linewidths=.5, annot=True,square = True,  cmap = 'Blues', fmt=\"d\")\n",
    "\n",
    "plt.ylabel('Actual label')\n",
    "plt.xlabel('Predicted label')\n",
    "\n",
    "all_sample_title_gnb2 = 'Accuracy Score: {0}'.format(gnb2.score(X_test_res1, y_test_res1))\n",
    "plt.title(all_sample_title_gnb2, size = 15)\n",
    "\n",
    "# plt.savefig(\"one.png\")"
   ]
  },
  {
   "cell_type": "markdown",
   "id": "4b6e7f9b",
   "metadata": {},
   "source": [
    "### Random Forest Classifier"
   ]
  },
  {
   "cell_type": "code",
   "execution_count": 61,
   "id": "d403d6bc",
   "metadata": {},
   "outputs": [
    {
     "data": {
      "text/plain": [
       "RandomForestClassifier()"
      ]
     },
     "execution_count": 61,
     "metadata": {},
     "output_type": "execute_result"
    }
   ],
   "source": [
    "from sklearn.ensemble import RandomForestClassifier\n",
    "\n",
    "#Create a Gaussian Classifier\n",
    "Rf2=RandomForestClassifier(n_estimators=100)\n",
    "\n",
    "#Train the model using the training sets y_pred=clf.predict(X_test)\n",
    "Rf2.fit(X_train_res1,y_train_res1)"
   ]
  },
  {
   "cell_type": "code",
   "execution_count": 62,
   "id": "cc3970e2",
   "metadata": {},
   "outputs": [
    {
     "name": "stdout",
     "output_type": "stream",
     "text": [
      "Classification report - \n",
      "               precision    recall  f1-score   support\n",
      "\n",
      "      benign       1.00      1.00      1.00      1748\n",
      "heavy_attack       0.98      0.98      0.98      1123\n",
      "light_attack       0.97      0.97      0.97      1003\n",
      "\n",
      "    accuracy                           0.99      3874\n",
      "   macro avg       0.98      0.98      0.98      3874\n",
      "weighted avg       0.99      0.99      0.99      3874\n",
      "\n"
     ]
    }
   ],
   "source": [
    "# Predicting the values of test data\n",
    "y_pred_Rf2 = Rf2.predict(X_test_res1)\n",
    "print(\"Classification report - \\n\", classification_report(y_test_res1, y_pred_Rf2))"
   ]
  },
  {
   "cell_type": "code",
   "execution_count": 63,
   "id": "dbb5f865",
   "metadata": {},
   "outputs": [
    {
     "data": {
      "text/plain": [
       "Text(0.5, 1.0, 'Accuracy Score: 0.9855446566855963')"
      ]
     },
     "execution_count": 63,
     "metadata": {},
     "output_type": "execute_result"
    },
    {
     "data": {
      "image/png": "[encoded data removed]",
      "text/plain": [
       "<Figure size 576x576 with 2 Axes>"
      ]
     },
     "metadata": {
      "needs_background": "light"
     },
     "output_type": "display_data"
    }
   ],
   "source": [
    "cm_Rf2 = confusion_matrix(y_test_res1, y_pred_Rf2)\n",
    "plt.figure(figsize=(8,8))\n",
    "\n",
    "sns.heatmap(data=cm_Rf2, linewidths=.5, annot=True,square = True,  cmap = 'Blues', fmt=\"d\")\n",
    "\n",
    "plt.ylabel('Actual label')\n",
    "plt.xlabel('Predicted label')\n",
    "\n",
    "all_sample_title_Rf2 = 'Accuracy Score: {0}'.format(Rf2.score(X_test_res1, y_test_res1))\n",
    "plt.title(all_sample_title_Rf2, size = 15)\n",
    "\n",
    "# plt.savefig(\"one.png\")"
   ]
  },
  {
   "cell_type": "markdown",
   "id": "46ec2592",
   "metadata": {},
   "source": [
    "### Adaboost CLassfier"
   ]
  },
  {
   "cell_type": "code",
   "execution_count": 64,
   "id": "1a7ed54d",
   "metadata": {},
   "outputs": [
    {
     "data": {
      "text/plain": [
       "AdaBoostClassifier(learning_rate=1)"
      ]
     },
     "execution_count": 64,
     "metadata": {},
     "output_type": "execute_result"
    }
   ],
   "source": [
    "from sklearn.ensemble import AdaBoostClassifier\n",
    "\n",
    "# Create adaboost classifer object\n",
    "abc2 = AdaBoostClassifier(n_estimators=50,\n",
    "                         learning_rate=1)\n",
    "# Train Adaboost Classifer\n",
    "abc2.fit(X_train_res1, y_train_res1)\n"
   ]
  },
  {
   "cell_type": "code",
   "execution_count": 65,
   "id": "76a53150",
   "metadata": {},
   "outputs": [
    {
     "name": "stdout",
     "output_type": "stream",
     "text": [
      "Classification report - \n",
      "               precision    recall  f1-score   support\n",
      "\n",
      "      benign       0.95      0.94      0.94      1748\n",
      "heavy_attack       0.64      0.82      0.72      1123\n",
      "light_attack       0.76      0.53      0.63      1003\n",
      "\n",
      "    accuracy                           0.80      3874\n",
      "   macro avg       0.78      0.76      0.76      3874\n",
      "weighted avg       0.81      0.80      0.80      3874\n",
      "\n"
     ]
    }
   ],
   "source": [
    "# Predicting the values of test data\n",
    "y_pred_abc2 = abc2.predict(X_test_res1)\n",
    "print(\"Classification report - \\n\", classification_report(y_test_res1,y_pred_abc2))"
   ]
  },
  {
   "cell_type": "code",
   "execution_count": 66,
   "id": "ab12ee9e",
   "metadata": {},
   "outputs": [
    {
     "data": {
      "text/plain": [
       "Text(0.5, 1.0, 'Accuracy Score: 0.7994321115126485')"
      ]
     },
     "execution_count": 66,
     "metadata": {},
     "output_type": "execute_result"
    },
    {
     "data": {
      "image/png": "[encoded data removed]",
      "text/plain": [
       "<Figure size 576x576 with 2 Axes>"
      ]
     },
     "metadata": {
      "needs_background": "light"
     },
     "output_type": "display_data"
    }
   ],
   "source": [
    "cm_abc2 = confusion_matrix(y_test_res1, y_pred_abc2)\n",
    "plt.figure(figsize=(8,8))\n",
    "\n",
    "sns.heatmap(data=cm_abc2,linewidths=.5, annot=True,square = True,  cmap = 'Blues', fmt=\"d\")\n",
    "\n",
    "plt.ylabel('Actual label')\n",
    "plt.xlabel('Predicted label')\n",
    "\n",
    "all_sample_title_abc2 = 'Accuracy Score: {0}'.format(abc2.score(X_test_res1, y_test_res1))\n",
    "plt.title(all_sample_title_abc2, size = 15)\n",
    "\n",
    "# plt.savefig(\"one.png\")"
   ]
  },
  {
   "cell_type": "markdown",
   "id": "407636c9",
   "metadata": {},
   "source": [
    "### SMOTETomek"
   ]
  },
  {
   "cell_type": "code",
   "execution_count": 51,
   "id": "f172b931",
   "metadata": {},
   "outputs": [
    {
     "name": "stdout",
     "output_type": "stream",
     "text": [
      "Resampled dataset shape Counter({'benign': 6327, 'light_attack': 5387, 'heavy_attack': 5385})\n"
     ]
    }
   ],
   "source": [
    "smt = SMOTETomek(random_state=42)\n",
    "X_res2, y_res2 = smt.fit_resample(X, y)\n",
    "print('Resampled dataset shape %s' % Counter(y_res2))"
   ]
  },
  {
   "cell_type": "code",
   "execution_count": 52,
   "id": "652639b4",
   "metadata": {},
   "outputs": [
    {
     "data": {
      "image/png": "[encoded data removed]",
      "text/plain": [
       "<Figure size 432x288 with 1 Axes>"
      ]
     },
     "metadata": {
      "needs_background": "light"
     },
     "output_type": "display_data"
    }
   ],
   "source": [
    "labels = ['benign', 'heavy_attack', 'light_attack']\n",
    "classes = y_res2.value_counts()\n",
    "\n",
    "total = classes.sum()\n",
    "# calculate percentage\n",
    "percentage = []\n",
    "for i in range(len(classes)):\n",
    "    pct = (classes[i] / total) * 100\n",
    "    percentage.append(round(pct,2))\n",
    "graph = plt.bar(classes.index, classes.values)\n",
    "plt.title(\"Class Distribution\")\n",
    "plt.xticks(range(3), labels)\n",
    "plt.xlabel(\"Class\")\n",
    "plt.ylabel(\"Frequency\") \n",
    "\n",
    "i = 0\n",
    "for p in graph:\n",
    "    width = p.get_width()\n",
    "    height = p.get_height()\n",
    "    x, y3 = p.get_xy()\n",
    "    plt.text(x+width/2,\n",
    "             y3+height*1.01,\n",
    "             str(percentage[i])+'%',\n",
    "             ha='center',\n",
    "             weight='bold')\n",
    "    i+=1\n",
    "plt.savefig(\"Class_distribution_balanced_smoteTomek.png\")"
   ]
  },
  {
   "cell_type": "code",
   "execution_count": 68,
   "id": "41a1c302",
   "metadata": {},
   "outputs": [
    {
     "name": "stdout",
     "output_type": "stream",
     "text": [
      "Training split input-  (11979, 12)\n",
      "Testing split input-  (5134, 12)\n"
     ]
    }
   ],
   "source": [
    "# Splitting upsampled data - into 70:30 ratio\n",
    "X_train_res2, X_test_res2, y_train_res2, y_test_res2 = train_test_split(X_res2 , y_res2, test_size = 0.3, random_state = 0)\n",
    "print(\"Training split input- \", X_train_res2.shape)\n",
    "print(\"Testing split input- \", X_test_res2.shape)"
   ]
  },
  {
   "cell_type": "code",
   "execution_count": 69,
   "id": "2e0e89b9",
   "metadata": {},
   "outputs": [
    {
     "name": "stdout",
     "output_type": "stream",
     "text": [
      "Decision Tree Classifer Created\n"
     ]
    }
   ],
   "source": [
    "# Defining the decision tree algorithm\n",
    "dtree3 = DecisionTreeClassifier()\n",
    "dtree3.fit(X_train_res2, y_train_res2)\n",
    "\n",
    "print('Decision Tree Classifer Created')"
   ]
  },
  {
   "cell_type": "code",
   "execution_count": 70,
   "id": "8dce597e",
   "metadata": {},
   "outputs": [
    {
     "name": "stdout",
     "output_type": "stream",
     "text": [
      "Classification report - \n",
      "               precision    recall  f1-score   support\n",
      "\n",
      "      benign       0.98      0.99      0.98      1838\n",
      "heavy_attack       0.85      0.83      0.84      1691\n",
      "light_attack       0.84      0.84      0.84      1605\n",
      "\n",
      "    accuracy                           0.89      5134\n",
      "   macro avg       0.89      0.89      0.89      5134\n",
      "weighted avg       0.89      0.89      0.89      5134\n",
      "\n"
     ]
    }
   ],
   "source": [
    "# Predicting the values of test data\n",
    "y_pred_dt3 = dtree3.predict(X_test_res2)\n",
    "print(\"Classification report - \\n\", classification_report(y_test_res2, y_pred_dt3))"
   ]
  },
  {
   "cell_type": "code",
   "execution_count": 71,
   "id": "306dfba6",
   "metadata": {},
   "outputs": [
    {
     "data": {
      "text/plain": [
       "Text(0.5, 1.0, 'Accuracy Score: 0.8909232567199065')"
      ]
     },
     "execution_count": 71,
     "metadata": {},
     "output_type": "execute_result"
    },
    {
     "data": {
      "image/png": "[encoded data removed]",
      "text/plain": [
       "<Figure size 576x576 with 2 Axes>"
      ]
     },
     "metadata": {
      "needs_background": "light"
     },
     "output_type": "display_data"
    }
   ],
   "source": [
    "cm_dt3 = confusion_matrix(y_test_res2, y_pred_dt3)\n",
    "plt.figure(figsize=(8,8))\n",
    "\n",
    "sns.heatmap(data=cm_dt3,linewidths=.5, annot=True,square = True,  cmap = 'Blues', fmt=\"d\")\n",
    "\n",
    "plt.ylabel('Actual label')\n",
    "plt.xlabel('Predicted label')\n",
    "\n",
    "all_sample_title_dt3 = 'Accuracy Score: {0}'.format(dtree3.score(X_test_res2, y_test_res2))\n",
    "plt.title(all_sample_title_dt3, size = 15)\n",
    "\n",
    "# plt.savefig(\"one.png\")"
   ]
  },
  {
   "cell_type": "markdown",
   "id": "8f251e50",
   "metadata": {},
   "source": [
    "### Naive Bayes Classifier"
   ]
  },
  {
   "cell_type": "code",
   "execution_count": 72,
   "id": "26e04f48",
   "metadata": {},
   "outputs": [
    {
     "data": {
      "text/plain": [
       "GaussianNB()"
      ]
     },
     "execution_count": 72,
     "metadata": {},
     "output_type": "execute_result"
    }
   ],
   "source": [
    "#Import Gaussian Naive Bayes model\n",
    "from sklearn.naive_bayes import GaussianNB\n",
    "\n",
    "#Create a Gaussian Classifier\n",
    "gnb3 = GaussianNB()\n",
    "\n",
    "#Train the model using the training sets\n",
    "gnb3.fit(X_train_res2, y_train_res2)\n"
   ]
  },
  {
   "cell_type": "code",
   "execution_count": 73,
   "id": "f0ec7b57",
   "metadata": {},
   "outputs": [
    {
     "name": "stdout",
     "output_type": "stream",
     "text": [
      "Classification report - \n",
      "               precision    recall  f1-score   support\n",
      "\n",
      "      benign       0.58      0.95      0.72      1838\n",
      "heavy_attack       0.63      0.37      0.46      1691\n",
      "light_attack       0.60      0.44      0.51      1605\n",
      "\n",
      "    accuracy                           0.60      5134\n",
      "   macro avg       0.61      0.58      0.56      5134\n",
      "weighted avg       0.61      0.60      0.57      5134\n",
      "\n"
     ]
    }
   ],
   "source": [
    "# Predicting the values of test data\n",
    "y_pred_gnb3 = gnb3.predict(X_test_res2)\n",
    "print(\"Classification report - \\n\", classification_report(y_test_res2, y_pred_gnb3))"
   ]
  },
  {
   "cell_type": "code",
   "execution_count": 74,
   "id": "39df71e2",
   "metadata": {},
   "outputs": [
    {
     "data": {
      "text/plain": [
       "Text(0.5, 1.0, 'Accuracy Score: 0.5975847292559407')"
      ]
     },
     "execution_count": 74,
     "metadata": {},
     "output_type": "execute_result"
    },
    {
     "data": {
      "image/png": "[encoded data removed]",
      "text/plain": [
       "<Figure size 576x576 with 2 Axes>"
      ]
     },
     "metadata": {
      "needs_background": "light"
     },
     "output_type": "display_data"
    }
   ],
   "source": [
    "cm_gnb3 = confusion_matrix(y_test_res2, y_pred_gnb3)\n",
    "plt.figure(figsize=(8,8))\n",
    "\n",
    "sns.heatmap(data=cm_gnb3,linewidths=.5, annot=True,square = True,  cmap = 'Blues', fmt=\"d\")\n",
    "\n",
    "plt.ylabel('Actual label')\n",
    "plt.xlabel('Predicted label')\n",
    "\n",
    "all_sample_title_gnb3 = 'Accuracy Score: {0}'.format(gnb3.score(X_test_res2, y_test_res2))\n",
    "plt.title(all_sample_title_gnb3, size = 15)\n",
    "\n",
    "# plt.savefig(\"one.png\")"
   ]
  },
  {
   "cell_type": "markdown",
   "id": "5aa55c37",
   "metadata": {},
   "source": [
    "### Random Forest Classifier"
   ]
  },
  {
   "cell_type": "code",
   "execution_count": 75,
   "id": "8d27d5bf",
   "metadata": {},
   "outputs": [
    {
     "data": {
      "text/plain": [
       "RandomForestClassifier()"
      ]
     },
     "execution_count": 75,
     "metadata": {},
     "output_type": "execute_result"
    }
   ],
   "source": [
    "from sklearn.ensemble import RandomForestClassifier\n",
    "\n",
    "#Create a Gaussian Classifier\n",
    "Rf3=RandomForestClassifier(n_estimators=100)\n",
    "\n",
    "#Train the model using the training sets y_pred=clf.predict(X_test)\n",
    "Rf3.fit(X_train_res2,y_train_res2)"
   ]
  },
  {
   "cell_type": "code",
   "execution_count": 76,
   "id": "df1f4cc0",
   "metadata": {},
   "outputs": [
    {
     "name": "stdout",
     "output_type": "stream",
     "text": [
      "Classification report - \n",
      "               precision    recall  f1-score   support\n",
      "\n",
      "      benign       0.99      0.99      0.99      1838\n",
      "heavy_attack       0.86      0.83      0.84      1691\n",
      "light_attack       0.83      0.86      0.85      1605\n",
      "\n",
      "    accuracy                           0.90      5134\n",
      "   macro avg       0.89      0.89      0.89      5134\n",
      "weighted avg       0.90      0.90      0.90      5134\n",
      "\n"
     ]
    }
   ],
   "source": [
    "# Predicting the values of test data\n",
    "y_pred_Rf3 = Rf3.predict(X_test_res2)\n",
    "print(\"Classification report - \\n\", classification_report(y_test_res2,y_pred_Rf3))"
   ]
  },
  {
   "cell_type": "code",
   "execution_count": 77,
   "id": "ada3053d",
   "metadata": {},
   "outputs": [
    {
     "data": {
      "text/plain": [
       "Text(0.5, 1.0, 'Accuracy Score: 0.8963770938839112')"
      ]
     },
     "execution_count": 77,
     "metadata": {},
     "output_type": "execute_result"
    },
    {
     "data": {
      "image/png": "[encoded data removed]",
      "text/plain": [
       "<Figure size 576x576 with 2 Axes>"
      ]
     },
     "metadata": {
      "needs_background": "light"
     },
     "output_type": "display_data"
    }
   ],
   "source": [
    "cm_Rf3 = confusion_matrix(y_test_res2, y_pred_Rf3)\n",
    "plt.figure(figsize=(8,8))\n",
    "\n",
    "sns.heatmap(data=cm_Rf3,linewidths=.5, annot=True,square = True,  cmap = 'Blues', fmt=\"d\")\n",
    "\n",
    "plt.ylabel('Actual label')\n",
    "plt.xlabel('Predicted label')\n",
    "\n",
    "all_sample_title_Rf3 = 'Accuracy Score: {0}'.format(Rf3.score(X_test_res2, y_test_res2))\n",
    "plt.title(all_sample_title_Rf3, size = 15)\n",
    "\n",
    "# plt.savefig(\"one.png\")"
   ]
  },
  {
   "cell_type": "markdown",
   "id": "3be048ce",
   "metadata": {},
   "source": [
    "### Adaboost Classifier"
   ]
  },
  {
   "cell_type": "code",
   "execution_count": 78,
   "id": "6bb587f6",
   "metadata": {},
   "outputs": [
    {
     "data": {
      "text/plain": [
       "AdaBoostClassifier(learning_rate=1)"
      ]
     },
     "execution_count": 78,
     "metadata": {},
     "output_type": "execute_result"
    }
   ],
   "source": [
    "from sklearn.ensemble import AdaBoostClassifier\n",
    "\n",
    "# Create adaboost classifer object\n",
    "abc3 = AdaBoostClassifier(n_estimators=50,\n",
    "                         learning_rate=1)\n",
    "# Train Adaboost Classifer\n",
    "abc3.fit(X_train_res2, y_train_res2)"
   ]
  },
  {
   "cell_type": "code",
   "execution_count": 79,
   "id": "b9f1704b",
   "metadata": {},
   "outputs": [
    {
     "name": "stdout",
     "output_type": "stream",
     "text": [
      "Classification report - \n",
      "               precision    recall  f1-score   support\n",
      "\n",
      "      benign       0.92      0.91      0.91      1838\n",
      "heavy_attack       0.67      0.60      0.64      1691\n",
      "light_attack       0.64      0.71      0.67      1605\n",
      "\n",
      "    accuracy                           0.75      5134\n",
      "   macro avg       0.74      0.74      0.74      5134\n",
      "weighted avg       0.75      0.75      0.75      5134\n",
      "\n"
     ]
    }
   ],
   "source": [
    "# Predicting the values of test data\n",
    "y_pred_abc3 = abc3.predict(X_test_res2)\n",
    "print(\"Classification report - \\n\", classification_report(y_test_res2, y_pred_abc3))"
   ]
  },
  {
   "cell_type": "code",
   "execution_count": 80,
   "id": "fbf3a2aa",
   "metadata": {},
   "outputs": [
    {
     "data": {
      "text/plain": [
       "Text(0.5, 1.0, 'Accuracy Score: 0.7481495909622127')"
      ]
     },
     "execution_count": 80,
     "metadata": {},
     "output_type": "execute_result"
    },
    {
     "data": {
      "image/png": "[encoded data removed]",
      "text/plain": [
       "<Figure size 576x576 with 2 Axes>"
      ]
     },
     "metadata": {
      "needs_background": "light"
     },
     "output_type": "display_data"
    }
   ],
   "source": [
    "cm_abc3 = confusion_matrix(y_test_res2, y_pred_abc3)\n",
    "plt.figure(figsize=(8,8))\n",
    "\n",
    "sns.heatmap(data=cm_abc3,linewidths=.5, annot=True,square = True,  cmap = 'Blues', fmt=\"d\")\n",
    "\n",
    "plt.ylabel('Actual label')\n",
    "plt.xlabel('Predicted label')\n",
    "\n",
    "all_sample_title_abc3 = 'Accuracy Score: {0}'.format(abc3.score(X_test_res2, y_test_res2))\n",
    "plt.title(all_sample_title_abc3, size = 15)\n",
    "\n",
    "# plt.savefig(\"one.png\")"
   ]
  }
 ],
 "metadata": {
  "kernelspec": {
   "display_name": "Python 3",
   "language": "python",
   "name": "python3"
  },
  "language_info": {
   "codemirror_mode": {
    "name": "ipython",
    "version": 3
   },
   "file_extension": ".py",
   "mimetype": "text/x-python",
   "name": "python",
   "nbconvert_exporter": "python",
   "pygments_lexer": "ipython3",
   "version": "3.8.8"
  }
 },
 "nbformat": 4,
 "nbformat_minor": 5
}
